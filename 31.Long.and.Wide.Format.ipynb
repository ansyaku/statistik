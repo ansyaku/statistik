{
 "cells": [
  {
   "cell_type": "code",
   "execution_count": 1,
   "id": "f1e00f6f",
   "metadata": {},
   "outputs": [
    {
     "name": "stdout",
     "output_type": "stream",
     "text": [
      "'data.frame':\t10 obs. of  7 variables:\n",
      " $ name      : chr  \"Ben\" \"Martin\" \"Andy\" \"Paul\" ...\n",
      " $ birth_date: chr  \"7/3/1977\" \"5/24/1969\" \"6/21/1973\" \"7/16/1970\" ...\n",
      " $ job       : int  1 1 1 1 1 2 2 2 2 2\n",
      " $ friends   : int  5 2 0 4 1 10 12 15 12 17\n",
      " $ alcohol   : int  10 15 20 5 30 25 20 16 17 18\n",
      " $ income    : int  20000 40000 35000 22000 50000 5000 100 3000 10000 10\n",
      " $ neurotic  : int  10 17 14 13 21 7 13 9 14 13\n"
     ]
    }
   ],
   "source": [
    "data.lwdf<-read.delim(\"Lecturer data.dat\", header=TRUE)\n",
    "str(data.lwdf)"
   ]
  },
  {
   "cell_type": "code",
   "execution_count": 3,
   "id": "ba858ee1",
   "metadata": {},
   "outputs": [
    {
     "data": {
      "text/html": [
       "<table class=\"dataframe\">\n",
       "<caption>A data.frame: 5 × 3</caption>\n",
       "<thead>\n",
       "\t<tr><th></th><th scope=col>friends</th><th scope=col>alcohol</th><th scope=col>neurotic</th></tr>\n",
       "\t<tr><th></th><th scope=col>&lt;int&gt;</th><th scope=col>&lt;int&gt;</th><th scope=col>&lt;int&gt;</th></tr>\n",
       "</thead>\n",
       "<tbody>\n",
       "\t<tr><th scope=row>1</th><td>5</td><td>10</td><td>10</td></tr>\n",
       "\t<tr><th scope=row>2</th><td>2</td><td>15</td><td>17</td></tr>\n",
       "\t<tr><th scope=row>3</th><td>0</td><td>20</td><td>14</td></tr>\n",
       "\t<tr><th scope=row>4</th><td>4</td><td> 5</td><td>13</td></tr>\n",
       "\t<tr><th scope=row>5</th><td>1</td><td>30</td><td>21</td></tr>\n",
       "</tbody>\n",
       "</table>\n"
      ],
      "text/latex": [
       "A data.frame: 5 × 3\n",
       "\\begin{tabular}{r|lll}\n",
       "  & friends & alcohol & neurotic\\\\\n",
       "  & <int> & <int> & <int>\\\\\n",
       "\\hline\n",
       "\t1 & 5 & 10 & 10\\\\\n",
       "\t2 & 2 & 15 & 17\\\\\n",
       "\t3 & 0 & 20 & 14\\\\\n",
       "\t4 & 4 &  5 & 13\\\\\n",
       "\t5 & 1 & 30 & 21\\\\\n",
       "\\end{tabular}\n"
      ],
      "text/markdown": [
       "\n",
       "A data.frame: 5 × 3\n",
       "\n",
       "| <!--/--> | friends &lt;int&gt; | alcohol &lt;int&gt; | neurotic &lt;int&gt; |\n",
       "|---|---|---|---|\n",
       "| 1 | 5 | 10 | 10 |\n",
       "| 2 | 2 | 15 | 17 |\n",
       "| 3 | 0 | 20 | 14 |\n",
       "| 4 | 4 |  5 | 13 |\n",
       "| 5 | 1 | 30 | 21 |\n",
       "\n"
      ],
      "text/plain": [
       "  friends alcohol neurotic\n",
       "1 5       10      10      \n",
       "2 2       15      17      \n",
       "3 0       20      14      \n",
       "4 4        5      13      \n",
       "5 1       30      21      "
      ]
     },
     "metadata": {},
     "output_type": "display_data"
    }
   ],
   "source": [
    "lecturePersonality<-data.lwdf[,c(\"friends\",\"alcohol\",\"neurotic\")]\n",
    "head(lecturePersonality, 5)"
   ]
  },
  {
   "cell_type": "code",
   "execution_count": 17,
   "id": "59a5e82e",
   "metadata": {},
   "outputs": [
    {
     "ename": "ERROR",
     "evalue": "Error in `[.data.frame`(data.lwdf, job == \"Lecturer\", ): object 'job' not found\n",
     "output_type": "error",
     "traceback": [
      "Error in `[.data.frame`(data.lwdf, job == \"Lecturer\", ): object 'job' not found\nTraceback:\n",
      "1. data.lwdf[job == \"Lecturer\", ]",
      "2. `[.data.frame`(data.lwdf, job == \"Lecturer\", )"
     ]
    }
   ],
   "source": [
    "hanyaDosen<-data.lwdf[job==\"Lecturer\",]"
   ]
  },
  {
   "cell_type": "code",
   "execution_count": 13,
   "id": "506b27fd",
   "metadata": {},
   "outputs": [
    {
     "data": {
      "text/html": [
       "<style>\n",
       ".list-inline {list-style: none; margin:0; padding: 0}\n",
       ".list-inline>li {display: inline-block}\n",
       ".list-inline>li:not(:last-child)::after {content: \"\\00b7\"; padding: 0 .5ex}\n",
       "</style>\n",
       "<ol class=list-inline><li>1</li><li>1</li><li>1</li><li>1</li><li>1</li><li>2</li><li>2</li><li>2</li><li>2</li><li>2</li></ol>\n"
      ],
      "text/latex": [
       "\\begin{enumerate*}\n",
       "\\item 1\n",
       "\\item 1\n",
       "\\item 1\n",
       "\\item 1\n",
       "\\item 1\n",
       "\\item 2\n",
       "\\item 2\n",
       "\\item 2\n",
       "\\item 2\n",
       "\\item 2\n",
       "\\end{enumerate*}\n"
      ],
      "text/markdown": [
       "1. 1\n",
       "2. 1\n",
       "3. 1\n",
       "4. 1\n",
       "5. 1\n",
       "6. 2\n",
       "7. 2\n",
       "8. 2\n",
       "9. 2\n",
       "10. 2\n",
       "\n",
       "\n"
      ],
      "text/plain": [
       " [1] 1 1 1 1 1 2 2 2 2 2"
      ]
     },
     "metadata": {},
     "output_type": "display_data"
    }
   ],
   "source": [
    "data.lwdf$job"
   ]
  },
  {
   "cell_type": "code",
   "execution_count": 6,
   "id": "98d0f570",
   "metadata": {},
   "outputs": [
    {
     "data": {
      "text/html": [
       "<table class=\"dataframe\">\n",
       "<caption>A data.frame: 6 × 6</caption>\n",
       "<thead>\n",
       "\t<tr><th></th><th scope=col>Person</th><th scope=col>Satisfaction_Base</th><th scope=col>Satisfaction_6_Months</th><th scope=col>Satisfaction_12_Months</th><th scope=col>Satisfaction_18_Months</th><th scope=col>Gender</th></tr>\n",
       "\t<tr><th></th><th scope=col>&lt;int&gt;</th><th scope=col>&lt;int&gt;</th><th scope=col>&lt;int&gt;</th><th scope=col>&lt;int&gt;</th><th scope=col>&lt;int&gt;</th><th scope=col>&lt;int&gt;</th></tr>\n",
       "</thead>\n",
       "<tbody>\n",
       "\t<tr><th scope=row>1</th><td>1</td><td>6</td><td> 6</td><td>5</td><td>2</td><td>0</td></tr>\n",
       "\t<tr><th scope=row>2</th><td>2</td><td>7</td><td> 7</td><td>8</td><td>4</td><td>1</td></tr>\n",
       "\t<tr><th scope=row>3</th><td>3</td><td>4</td><td> 6</td><td>2</td><td>2</td><td>1</td></tr>\n",
       "\t<tr><th scope=row>4</th><td>4</td><td>6</td><td> 9</td><td>4</td><td>1</td><td>0</td></tr>\n",
       "\t<tr><th scope=row>5</th><td>5</td><td>6</td><td> 7</td><td>6</td><td>6</td><td>0</td></tr>\n",
       "\t<tr><th scope=row>6</th><td>6</td><td>5</td><td>10</td><td>4</td><td>2</td><td>1</td></tr>\n",
       "</tbody>\n",
       "</table>\n"
      ],
      "text/latex": [
       "A data.frame: 6 × 6\n",
       "\\begin{tabular}{r|llllll}\n",
       "  & Person & Satisfaction\\_Base & Satisfaction\\_6\\_Months & Satisfaction\\_12\\_Months & Satisfaction\\_18\\_Months & Gender\\\\\n",
       "  & <int> & <int> & <int> & <int> & <int> & <int>\\\\\n",
       "\\hline\n",
       "\t1 & 1 & 6 &  6 & 5 & 2 & 0\\\\\n",
       "\t2 & 2 & 7 &  7 & 8 & 4 & 1\\\\\n",
       "\t3 & 3 & 4 &  6 & 2 & 2 & 1\\\\\n",
       "\t4 & 4 & 6 &  9 & 4 & 1 & 0\\\\\n",
       "\t5 & 5 & 6 &  7 & 6 & 6 & 0\\\\\n",
       "\t6 & 6 & 5 & 10 & 4 & 2 & 1\\\\\n",
       "\\end{tabular}\n"
      ],
      "text/markdown": [
       "\n",
       "A data.frame: 6 × 6\n",
       "\n",
       "| <!--/--> | Person &lt;int&gt; | Satisfaction_Base &lt;int&gt; | Satisfaction_6_Months &lt;int&gt; | Satisfaction_12_Months &lt;int&gt; | Satisfaction_18_Months &lt;int&gt; | Gender &lt;int&gt; |\n",
       "|---|---|---|---|---|---|---|\n",
       "| 1 | 1 | 6 |  6 | 5 | 2 | 0 |\n",
       "| 2 | 2 | 7 |  7 | 8 | 4 | 1 |\n",
       "| 3 | 3 | 4 |  6 | 2 | 2 | 1 |\n",
       "| 4 | 4 | 6 |  9 | 4 | 1 | 0 |\n",
       "| 5 | 5 | 6 |  7 | 6 | 6 | 0 |\n",
       "| 6 | 6 | 5 | 10 | 4 | 2 | 1 |\n",
       "\n"
      ],
      "text/plain": [
       "  Person Satisfaction_Base Satisfaction_6_Months Satisfaction_12_Months\n",
       "1 1      6                  6                    5                     \n",
       "2 2      7                  7                    8                     \n",
       "3 3      4                  6                    2                     \n",
       "4 4      6                  9                    4                     \n",
       "5 5      6                  7                    6                     \n",
       "6 6      5                 10                    4                     \n",
       "  Satisfaction_18_Months Gender\n",
       "1 2                      0     \n",
       "2 4                      1     \n",
       "3 2                      1     \n",
       "4 1                      0     \n",
       "5 6                      0     \n",
       "6 2                      1     "
      ]
     },
     "metadata": {},
     "output_type": "display_data"
    }
   ],
   "source": [
    "data.rshp<-read.delim(\"Honeymoon Period.dat\", header=TRUE)\n",
    "head(data.rshp)"
   ]
  },
  {
   "cell_type": "code",
   "execution_count": 7,
   "id": "41a6c104",
   "metadata": {},
   "outputs": [],
   "source": [
    "satisfactionStacked<-stack(data.rshp, select = c(\"Satisfaction_Base\", \n",
    "                                                        \"Satisfaction_6_Months\", \n",
    "                                                        \"Satisfaction_12_Months\", \n",
    "                                                        \"Satisfaction_18_Months\"))"
   ]
  },
  {
   "cell_type": "code",
   "execution_count": 8,
   "id": "a0bfa45f",
   "metadata": {},
   "outputs": [
    {
     "data": {
      "text/html": [
       "<table class=\"dataframe\">\n",
       "<caption>A data.frame: 6 × 2</caption>\n",
       "<thead>\n",
       "\t<tr><th></th><th scope=col>values</th><th scope=col>ind</th></tr>\n",
       "\t<tr><th></th><th scope=col>&lt;int&gt;</th><th scope=col>&lt;fct&gt;</th></tr>\n",
       "</thead>\n",
       "<tbody>\n",
       "\t<tr><th scope=row>1</th><td>6</td><td>Satisfaction_Base</td></tr>\n",
       "\t<tr><th scope=row>2</th><td>7</td><td>Satisfaction_Base</td></tr>\n",
       "\t<tr><th scope=row>3</th><td>4</td><td>Satisfaction_Base</td></tr>\n",
       "\t<tr><th scope=row>4</th><td>6</td><td>Satisfaction_Base</td></tr>\n",
       "\t<tr><th scope=row>5</th><td>6</td><td>Satisfaction_Base</td></tr>\n",
       "\t<tr><th scope=row>6</th><td>5</td><td>Satisfaction_Base</td></tr>\n",
       "</tbody>\n",
       "</table>\n"
      ],
      "text/latex": [
       "A data.frame: 6 × 2\n",
       "\\begin{tabular}{r|ll}\n",
       "  & values & ind\\\\\n",
       "  & <int> & <fct>\\\\\n",
       "\\hline\n",
       "\t1 & 6 & Satisfaction\\_Base\\\\\n",
       "\t2 & 7 & Satisfaction\\_Base\\\\\n",
       "\t3 & 4 & Satisfaction\\_Base\\\\\n",
       "\t4 & 6 & Satisfaction\\_Base\\\\\n",
       "\t5 & 6 & Satisfaction\\_Base\\\\\n",
       "\t6 & 5 & Satisfaction\\_Base\\\\\n",
       "\\end{tabular}\n"
      ],
      "text/markdown": [
       "\n",
       "A data.frame: 6 × 2\n",
       "\n",
       "| <!--/--> | values &lt;int&gt; | ind &lt;fct&gt; |\n",
       "|---|---|---|\n",
       "| 1 | 6 | Satisfaction_Base |\n",
       "| 2 | 7 | Satisfaction_Base |\n",
       "| 3 | 4 | Satisfaction_Base |\n",
       "| 4 | 6 | Satisfaction_Base |\n",
       "| 5 | 6 | Satisfaction_Base |\n",
       "| 6 | 5 | Satisfaction_Base |\n",
       "\n"
      ],
      "text/plain": [
       "  values ind              \n",
       "1 6      Satisfaction_Base\n",
       "2 7      Satisfaction_Base\n",
       "3 4      Satisfaction_Base\n",
       "4 6      Satisfaction_Base\n",
       "5 6      Satisfaction_Base\n",
       "6 5      Satisfaction_Base"
      ]
     },
     "metadata": {},
     "output_type": "display_data"
    }
   ],
   "source": [
    "head(satisfactionStacked)"
   ]
  },
  {
   "cell_type": "code",
   "execution_count": 15,
   "id": "8996dd25",
   "metadata": {},
   "outputs": [
    {
     "data": {
      "text/html": [
       "<table class=\"dataframe\">\n",
       "<caption>A data.frame: 6 × 4</caption>\n",
       "<thead>\n",
       "\t<tr><th></th><th scope=col>Person</th><th scope=col>Gender</th><th scope=col>variable</th><th scope=col>value</th></tr>\n",
       "\t<tr><th></th><th scope=col>&lt;int&gt;</th><th scope=col>&lt;int&gt;</th><th scope=col>&lt;fct&gt;</th><th scope=col>&lt;int&gt;</th></tr>\n",
       "</thead>\n",
       "<tbody>\n",
       "\t<tr><th scope=row>1</th><td>1</td><td>0</td><td>Satisfaction_Base</td><td>6</td></tr>\n",
       "\t<tr><th scope=row>2</th><td>2</td><td>1</td><td>Satisfaction_Base</td><td>7</td></tr>\n",
       "\t<tr><th scope=row>3</th><td>3</td><td>1</td><td>Satisfaction_Base</td><td>4</td></tr>\n",
       "\t<tr><th scope=row>4</th><td>4</td><td>0</td><td>Satisfaction_Base</td><td>6</td></tr>\n",
       "\t<tr><th scope=row>5</th><td>5</td><td>0</td><td>Satisfaction_Base</td><td>6</td></tr>\n",
       "\t<tr><th scope=row>6</th><td>6</td><td>1</td><td>Satisfaction_Base</td><td>5</td></tr>\n",
       "</tbody>\n",
       "</table>\n"
      ],
      "text/latex": [
       "A data.frame: 6 × 4\n",
       "\\begin{tabular}{r|llll}\n",
       "  & Person & Gender & variable & value\\\\\n",
       "  & <int> & <int> & <fct> & <int>\\\\\n",
       "\\hline\n",
       "\t1 & 1 & 0 & Satisfaction\\_Base & 6\\\\\n",
       "\t2 & 2 & 1 & Satisfaction\\_Base & 7\\\\\n",
       "\t3 & 3 & 1 & Satisfaction\\_Base & 4\\\\\n",
       "\t4 & 4 & 0 & Satisfaction\\_Base & 6\\\\\n",
       "\t5 & 5 & 0 & Satisfaction\\_Base & 6\\\\\n",
       "\t6 & 6 & 1 & Satisfaction\\_Base & 5\\\\\n",
       "\\end{tabular}\n"
      ],
      "text/markdown": [
       "\n",
       "A data.frame: 6 × 4\n",
       "\n",
       "| <!--/--> | Person &lt;int&gt; | Gender &lt;int&gt; | variable &lt;fct&gt; | value &lt;int&gt; |\n",
       "|---|---|---|---|---|\n",
       "| 1 | 1 | 0 | Satisfaction_Base | 6 |\n",
       "| 2 | 2 | 1 | Satisfaction_Base | 7 |\n",
       "| 3 | 3 | 1 | Satisfaction_Base | 4 |\n",
       "| 4 | 4 | 0 | Satisfaction_Base | 6 |\n",
       "| 5 | 5 | 0 | Satisfaction_Base | 6 |\n",
       "| 6 | 6 | 1 | Satisfaction_Base | 5 |\n",
       "\n"
      ],
      "text/plain": [
       "  Person Gender variable          value\n",
       "1 1      0      Satisfaction_Base 6    \n",
       "2 2      1      Satisfaction_Base 7    \n",
       "3 3      1      Satisfaction_Base 4    \n",
       "4 4      0      Satisfaction_Base 6    \n",
       "5 5      0      Satisfaction_Base 6    \n",
       "6 6      1      Satisfaction_Base 5    "
      ]
     },
     "metadata": {},
     "output_type": "display_data"
    }
   ],
   "source": [
    "library(reshape)\n",
    "restructuredData<-melt(data.rshp, id = c(\"Person\", \"Gender\"), \n",
    "                       measured = c(\"Satisfaction_Base\", \"Satisfaction_6_Months\", \"Satisfaction_12_Months\", \n",
    "                                    \"Satisfaction_18_Months\"))\n",
    "head(restructuredData)"
   ]
  },
  {
   "cell_type": "code",
   "execution_count": 16,
   "id": "17eb78a1",
   "metadata": {},
   "outputs": [
    {
     "ename": "ERROR",
     "evalue": "Error in tribble(~Nama, ~NoHP, ~JenisKelamin, ~StatusNikah, \"aandi\", 111, : could not find function \"tribble\"\n",
     "output_type": "error",
     "traceback": [
      "Error in tribble(~Nama, ~NoHP, ~JenisKelamin, ~StatusNikah, \"aandi\", 111, : could not find function \"tribble\"\nTraceback:\n"
     ]
    }
   ],
   "source": [
    "data.cepat<-tribble(\n",
    "  ~Nama, ~NoHP,~JenisKelamin, ~StatusNikah,\n",
    "  \"aandi\",   111, \"Laki-Laki\", \"Kawin\",\n",
    "  \"budi\",   222, \"Perempuan\", \"Kawin\",\n",
    "  \"cinta\",   333, \"Laki-Laki\", \"Tidak Kawin\",\n",
    ")"
   ]
  },
  {
   "cell_type": "code",
   "execution_count": 29,
   "id": "120254bc",
   "metadata": {},
   "outputs": [],
   "source": [
    "library(reshape)\n",
    "data.frame.cepat<-data.frame(data.cepat)\n",
    "newData<-melt(data.frame.cepat, id = c(\"Nama\", \"NoHP\"), \n",
    "                       measured = c(\"Jenis Kelamin\", \"Status Nikah\"))"
   ]
  },
  {
   "cell_type": "code",
   "execution_count": 30,
   "id": "53bb182e",
   "metadata": {},
   "outputs": [
    {
     "data": {
      "text/html": [
       "<table class=\"dataframe\">\n",
       "<caption>A data.frame: 6 × 4</caption>\n",
       "<thead>\n",
       "\t<tr><th scope=col>Nama</th><th scope=col>NoHP</th><th scope=col>variable</th><th scope=col>value</th></tr>\n",
       "\t<tr><th scope=col>&lt;chr&gt;</th><th scope=col>&lt;dbl&gt;</th><th scope=col>&lt;fct&gt;</th><th scope=col>&lt;chr&gt;</th></tr>\n",
       "</thead>\n",
       "<tbody>\n",
       "\t<tr><td>aandi</td><td>111</td><td>JenisKelamin</td><td>Laki-Laki  </td></tr>\n",
       "\t<tr><td>budi </td><td>222</td><td>JenisKelamin</td><td>Perempuan  </td></tr>\n",
       "\t<tr><td>cinta</td><td>333</td><td>JenisKelamin</td><td>Laki-Laki  </td></tr>\n",
       "\t<tr><td>aandi</td><td>111</td><td>StatusNikah </td><td>Kawin      </td></tr>\n",
       "\t<tr><td>budi </td><td>222</td><td>StatusNikah </td><td>Kawin      </td></tr>\n",
       "\t<tr><td>cinta</td><td>333</td><td>StatusNikah </td><td>Tidak Kawin</td></tr>\n",
       "</tbody>\n",
       "</table>\n"
      ],
      "text/latex": [
       "A data.frame: 6 × 4\n",
       "\\begin{tabular}{llll}\n",
       " Nama & NoHP & variable & value\\\\\n",
       " <chr> & <dbl> & <fct> & <chr>\\\\\n",
       "\\hline\n",
       "\t aandi & 111 & JenisKelamin & Laki-Laki  \\\\\n",
       "\t budi  & 222 & JenisKelamin & Perempuan  \\\\\n",
       "\t cinta & 333 & JenisKelamin & Laki-Laki  \\\\\n",
       "\t aandi & 111 & StatusNikah  & Kawin      \\\\\n",
       "\t budi  & 222 & StatusNikah  & Kawin      \\\\\n",
       "\t cinta & 333 & StatusNikah  & Tidak Kawin\\\\\n",
       "\\end{tabular}\n"
      ],
      "text/markdown": [
       "\n",
       "A data.frame: 6 × 4\n",
       "\n",
       "| Nama &lt;chr&gt; | NoHP &lt;dbl&gt; | variable &lt;fct&gt; | value &lt;chr&gt; |\n",
       "|---|---|---|---|\n",
       "| aandi | 111 | JenisKelamin | Laki-Laki   |\n",
       "| budi  | 222 | JenisKelamin | Perempuan   |\n",
       "| cinta | 333 | JenisKelamin | Laki-Laki   |\n",
       "| aandi | 111 | StatusNikah  | Kawin       |\n",
       "| budi  | 222 | StatusNikah  | Kawin       |\n",
       "| cinta | 333 | StatusNikah  | Tidak Kawin |\n",
       "\n"
      ],
      "text/plain": [
       "  Nama  NoHP variable     value      \n",
       "1 aandi 111  JenisKelamin Laki-Laki  \n",
       "2 budi  222  JenisKelamin Perempuan  \n",
       "3 cinta 333  JenisKelamin Laki-Laki  \n",
       "4 aandi 111  StatusNikah  Kawin      \n",
       "5 budi  222  StatusNikah  Kawin      \n",
       "6 cinta 333  StatusNikah  Tidak Kawin"
      ]
     },
     "metadata": {},
     "output_type": "display_data"
    }
   ],
   "source": [
    "newData"
   ]
  },
  {
   "cell_type": "code",
   "execution_count": 17,
   "id": "401bf996",
   "metadata": {},
   "outputs": [
    {
     "name": "stderr",
     "output_type": "stream",
     "text": [
      "-- \u001b[1mAttaching packages\u001b[22m ------------------------------------------------------------------------------- tidyverse 1.3.1 --\n",
      "\n",
      "\u001b[32mv\u001b[39m \u001b[34mggplot2\u001b[39m 3.3.3     \u001b[32mv\u001b[39m \u001b[34mpurrr  \u001b[39m 0.3.4\n",
      "\u001b[32mv\u001b[39m \u001b[34mtibble \u001b[39m 3.1.2     \u001b[32mv\u001b[39m \u001b[34mdplyr  \u001b[39m 1.0.6\n",
      "\u001b[32mv\u001b[39m \u001b[34mtidyr  \u001b[39m 1.1.3     \u001b[32mv\u001b[39m \u001b[34mstringr\u001b[39m 1.4.0\n",
      "\u001b[32mv\u001b[39m \u001b[34mreadr  \u001b[39m 1.4.0     \u001b[32mv\u001b[39m \u001b[34mforcats\u001b[39m 0.5.1\n",
      "\n",
      "-- \u001b[1mConflicts\u001b[22m ---------------------------------------------------------------------------------- tidyverse_conflicts() --\n",
      "\u001b[31mx\u001b[39m \u001b[34mtidyr\u001b[39m::\u001b[32mexpand()\u001b[39m masks \u001b[34mreshape\u001b[39m::expand()\n",
      "\u001b[31mx\u001b[39m \u001b[34mdplyr\u001b[39m::\u001b[32mfilter()\u001b[39m masks \u001b[34mstats\u001b[39m::filter()\n",
      "\u001b[31mx\u001b[39m \u001b[34mdplyr\u001b[39m::\u001b[32mlag()\u001b[39m    masks \u001b[34mstats\u001b[39m::lag()\n",
      "\u001b[31mx\u001b[39m \u001b[34mdplyr\u001b[39m::\u001b[32mrename()\u001b[39m masks \u001b[34mreshape\u001b[39m::rename()\n",
      "\n"
     ]
    }
   ],
   "source": [
    "library(tidyverse)\n",
    "data.pgw<-tribble(\n",
    "  ~Nama, ~NoHP,~Gaji2010, ~Gaji2020,\n",
    "  \"aandi\",   111, 5000000, 15000000,\n",
    "  \"budi\",   222, 10000000, 25000000,\n",
    "  \"cinta\",   333, 3000000, 7000000,\n",
    ")"
   ]
  },
  {
   "cell_type": "code",
   "execution_count": 18,
   "id": "cbecd297",
   "metadata": {},
   "outputs": [],
   "source": [
    "options(scipen=999)\n",
    "data.pegawai.ringkas<-data.frame(data.pgw)"
   ]
  },
  {
   "cell_type": "code",
   "execution_count": 19,
   "id": "56f55719",
   "metadata": {},
   "outputs": [],
   "source": [
    "data.baru<-melt(data.pegawai.ringkas, id=c(\"Nama\", \"NoHP\"), measured=c(\"Gaji2010\", \"Gaji2020\"))"
   ]
  },
  {
   "cell_type": "code",
   "execution_count": 20,
   "id": "7723f7b3",
   "metadata": {},
   "outputs": [
    {
     "data": {
      "text/html": [
       "<table class=\"dataframe\">\n",
       "<caption>A data.frame: 6 × 4</caption>\n",
       "<thead>\n",
       "\t<tr><th scope=col>Nama</th><th scope=col>NoHP</th><th scope=col>variable</th><th scope=col>value</th></tr>\n",
       "\t<tr><th scope=col>&lt;chr&gt;</th><th scope=col>&lt;dbl&gt;</th><th scope=col>&lt;fct&gt;</th><th scope=col>&lt;dbl&gt;</th></tr>\n",
       "</thead>\n",
       "<tbody>\n",
       "\t<tr><td>aandi</td><td>111</td><td>Gaji2010</td><td> 5000000</td></tr>\n",
       "\t<tr><td>budi </td><td>222</td><td>Gaji2010</td><td>10000000</td></tr>\n",
       "\t<tr><td>cinta</td><td>333</td><td>Gaji2010</td><td> 3000000</td></tr>\n",
       "\t<tr><td>aandi</td><td>111</td><td>Gaji2020</td><td>15000000</td></tr>\n",
       "\t<tr><td>budi </td><td>222</td><td>Gaji2020</td><td>25000000</td></tr>\n",
       "\t<tr><td>cinta</td><td>333</td><td>Gaji2020</td><td> 7000000</td></tr>\n",
       "</tbody>\n",
       "</table>\n"
      ],
      "text/latex": [
       "A data.frame: 6 × 4\n",
       "\\begin{tabular}{llll}\n",
       " Nama & NoHP & variable & value\\\\\n",
       " <chr> & <dbl> & <fct> & <dbl>\\\\\n",
       "\\hline\n",
       "\t aandi & 111 & Gaji2010 &  5000000\\\\\n",
       "\t budi  & 222 & Gaji2010 & 10000000\\\\\n",
       "\t cinta & 333 & Gaji2010 &  3000000\\\\\n",
       "\t aandi & 111 & Gaji2020 & 15000000\\\\\n",
       "\t budi  & 222 & Gaji2020 & 25000000\\\\\n",
       "\t cinta & 333 & Gaji2020 &  7000000\\\\\n",
       "\\end{tabular}\n"
      ],
      "text/markdown": [
       "\n",
       "A data.frame: 6 × 4\n",
       "\n",
       "| Nama &lt;chr&gt; | NoHP &lt;dbl&gt; | variable &lt;fct&gt; | value &lt;dbl&gt; |\n",
       "|---|---|---|---|\n",
       "| aandi | 111 | Gaji2010 |  5000000 |\n",
       "| budi  | 222 | Gaji2010 | 10000000 |\n",
       "| cinta | 333 | Gaji2010 |  3000000 |\n",
       "| aandi | 111 | Gaji2020 | 15000000 |\n",
       "| budi  | 222 | Gaji2020 | 25000000 |\n",
       "| cinta | 333 | Gaji2020 |  7000000 |\n",
       "\n"
      ],
      "text/plain": [
       "  Nama  NoHP variable value   \n",
       "1 aandi 111  Gaji2010  5000000\n",
       "2 budi  222  Gaji2010 10000000\n",
       "3 cinta 333  Gaji2010  3000000\n",
       "4 aandi 111  Gaji2020 15000000\n",
       "5 budi  222  Gaji2020 25000000\n",
       "6 cinta 333  Gaji2020  7000000"
      ]
     },
     "metadata": {},
     "output_type": "display_data"
    }
   ],
   "source": [
    "data.baru"
   ]
  },
  {
   "cell_type": "code",
   "execution_count": 27,
   "id": "dff06672",
   "metadata": {},
   "outputs": [
    {
     "name": "stderr",
     "output_type": "stream",
     "text": [
      "Warning message in Ops.factor(NoHP, variable):\n",
      "\"'+' not meaningful for factors\"\n"
     ]
    },
    {
     "data": {
      "text/html": [
       "<table class=\"dataframe\">\n",
       "<caption>A data.frame: 0 × 1</caption>\n",
       "<thead>\n",
       "\t<tr><th scope=col>res</th></tr>\n",
       "\t<tr><th scope=col>&lt;lgl&gt;</th></tr>\n",
       "</thead>\n",
       "<tbody>\n",
       "</tbody>\n",
       "</table>\n"
      ],
      "text/latex": [
       "A data.frame: 0 × 1\n",
       "\\begin{tabular}{l}\n",
       " res\\\\\n",
       " <lgl>\\\\\n",
       "\\hline\n",
       "\\end{tabular}\n"
      ],
      "text/markdown": [
       "\n",
       "A data.frame: 0 × 1\n",
       "\n",
       "| res &lt;lgl&gt; |\n",
       "|---|\n",
       "\n"
      ],
      "text/plain": [
       "     res"
      ]
     },
     "metadata": {},
     "output_type": "display_data"
    }
   ],
   "source": [
    "unstack(data.baru)"
   ]
  },
  {
   "cell_type": "code",
   "execution_count": 26,
   "id": "e7f7e4c1",
   "metadata": {},
   "outputs": [
    {
     "data": {
      "text/html": [
       "<table class=\"dataframe\">\n",
       "<caption>A data.frame: 6 × 4</caption>\n",
       "<thead>\n",
       "\t<tr><th scope=col>Nama</th><th scope=col>NoHP</th><th scope=col>variable</th><th scope=col>value</th></tr>\n",
       "\t<tr><th scope=col>&lt;chr&gt;</th><th scope=col>&lt;dbl&gt;</th><th scope=col>&lt;fct&gt;</th><th scope=col>&lt;dbl&gt;</th></tr>\n",
       "</thead>\n",
       "<tbody>\n",
       "\t<tr><td>aandi</td><td>111</td><td>Gaji2010</td><td> 5000000</td></tr>\n",
       "\t<tr><td>budi </td><td>222</td><td>Gaji2010</td><td>10000000</td></tr>\n",
       "\t<tr><td>cinta</td><td>333</td><td>Gaji2010</td><td> 3000000</td></tr>\n",
       "\t<tr><td>aandi</td><td>111</td><td>Gaji2020</td><td>15000000</td></tr>\n",
       "\t<tr><td>budi </td><td>222</td><td>Gaji2020</td><td>25000000</td></tr>\n",
       "\t<tr><td>cinta</td><td>333</td><td>Gaji2020</td><td> 7000000</td></tr>\n",
       "</tbody>\n",
       "</table>\n"
      ],
      "text/latex": [
       "A data.frame: 6 × 4\n",
       "\\begin{tabular}{llll}\n",
       " Nama & NoHP & variable & value\\\\\n",
       " <chr> & <dbl> & <fct> & <dbl>\\\\\n",
       "\\hline\n",
       "\t aandi & 111 & Gaji2010 &  5000000\\\\\n",
       "\t budi  & 222 & Gaji2010 & 10000000\\\\\n",
       "\t cinta & 333 & Gaji2010 &  3000000\\\\\n",
       "\t aandi & 111 & Gaji2020 & 15000000\\\\\n",
       "\t budi  & 222 & Gaji2020 & 25000000\\\\\n",
       "\t cinta & 333 & Gaji2020 &  7000000\\\\\n",
       "\\end{tabular}\n"
      ],
      "text/markdown": [
       "\n",
       "A data.frame: 6 × 4\n",
       "\n",
       "| Nama &lt;chr&gt; | NoHP &lt;dbl&gt; | variable &lt;fct&gt; | value &lt;dbl&gt; |\n",
       "|---|---|---|---|\n",
       "| aandi | 111 | Gaji2010 |  5000000 |\n",
       "| budi  | 222 | Gaji2010 | 10000000 |\n",
       "| cinta | 333 | Gaji2010 |  3000000 |\n",
       "| aandi | 111 | Gaji2020 | 15000000 |\n",
       "| budi  | 222 | Gaji2020 | 25000000 |\n",
       "| cinta | 333 | Gaji2020 |  7000000 |\n",
       "\n"
      ],
      "text/plain": [
       "  Nama  NoHP variable value   \n",
       "1 aandi 111  Gaji2010  5000000\n",
       "2 budi  222  Gaji2010 10000000\n",
       "3 cinta 333  Gaji2010  3000000\n",
       "4 aandi 111  Gaji2020 15000000\n",
       "5 budi  222  Gaji2020 25000000\n",
       "6 cinta 333  Gaji2020  7000000"
      ]
     },
     "metadata": {},
     "output_type": "display_data"
    }
   ],
   "source": [
    "df"
   ]
  }
 ],
 "metadata": {
  "kernelspec": {
   "display_name": "R",
   "language": "R",
   "name": "ir"
  },
  "language_info": {
   "codemirror_mode": "r",
   "file_extension": ".r",
   "mimetype": "text/x-r-source",
   "name": "R",
   "pygments_lexer": "r",
   "version": "4.1.0"
  }
 },
 "nbformat": 4,
 "nbformat_minor": 5
}
