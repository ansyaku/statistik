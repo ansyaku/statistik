{
 "cells": [
  {
   "cell_type": "code",
   "execution_count": 85,
   "id": "4abdb5e5",
   "metadata": {},
   "outputs": [],
   "source": [
    "library(ggplot2)"
   ]
  },
  {
   "cell_type": "markdown",
   "id": "c86e8df2",
   "metadata": {},
   "source": [
    "# 1. Asumsi Normalitas\n",
    "***"
   ]
  },
  {
   "cell_type": "markdown",
   "id": "ca187edc",
   "metadata": {},
   "source": [
    "## Distribusi Normal\n",
    "\n",
    "Data kebanyakan berada di tengah (direpresentasikan dengan kurva berbentuk lonceng).<br> \n",
    "Untuk dapat dikatakan normal, maka **nilai kemencengan dan kurtosis seharusnya nol**.\n",
    "\n",
    "Penyimpangan dari distribusi normal dapat disebabkan dua hal:\n",
    "+ __Kemencengan (*skewness*)__\n",
    "Indikator yang menunjukkan derajat kesimetrian suatu distribusi.<br>\n",
    "    - Negatively skewed - Skewness yang bernilai negatif berarti ekor distribusi berada di sebelah kiri, menunjukkan bahwa sebagian besar nilai berada di sisi kanan kurva.\n",
    "    - Positively skewed - Skewness yang bernilai positif berarti ekor distribusi berada di sebelah kanan, menunjukkan bahwa sebagian besar nilai berada di sisi kiri kurva.\n",
    "\n",
    "+ __Kurtosis/Keruncingan (*tailedness/pointiness*)__\n",
    "Indikator yang menunjukkan derajat keruncingan distribusi<br>\n",
    "    - Leptokurtis-Jika nilai kurtosis lebih besar dari 3, maka kurva distribusi disebut leptokurtis.\n",
    "    - Mesokurtis- Jika nilai kurtosis sama dengan 3.\n",
    "    - Platikurtis - Jika lebih rendah dari 3, maka disebut platikurtis."
   ]
  },
  {
   "cell_type": "markdown",
   "id": "12a5a626",
   "metadata": {},
   "source": [
    "Nilai kemencengan dan keruncungin bisa dibah ke dalam nilai $z-score$ dengan cara:<br>\n",
    "1. $z_{skewness}=\\frac{S-0}{SE_{skewness}}$ <br><br>\n",
    "2. $z_{kurtosiss}=\\frac{K-0}{SE_{kurtosis}}$"
   ]
  },
  {
   "cell_type": "code",
   "execution_count": 3,
   "id": "209870be",
   "metadata": {},
   "outputs": [
    {
     "name": "stdout",
     "output_type": "stream",
     "text": [
      "'data.frame':\t810 obs. of  5 variables:\n",
      " $ ticknumb: int  2111 2229 2338 2384 2401 2405 2467 2478 2490 2504 ...\n",
      " $ gender  : chr  \"Male\" \"Female\" \"Male\" \"Female\" ...\n",
      " $ day1    : num  2.64 0.97 0.84 3.03 0.88 0.85 1.56 3.02 2.29 1.11 ...\n",
      " $ day2    : num  1.35 1.41 NA NA 0.08 NA NA NA NA 0.44 ...\n",
      " $ day3    : num  1.61 0.29 NA NA NA NA NA NA NA 0.55 ...\n"
     ]
    }
   ],
   "source": [
    "data.norm<-read.delim(\"Festival.No.Outlier.dat\", header=TRUE)\n",
    "str(data.norm)"
   ]
  },
  {
   "cell_type": "code",
   "execution_count": 4,
   "id": "e4e843c2",
   "metadata": {},
   "outputs": [],
   "source": [
    "library(ggplot2)\n",
    "hist.day1<-ggplot(\n",
    "    data.norm, aes(day1))+\n",
    "    geom_density( colour=\"black\", fill=\"white\", size=1)+\n",
    "    labs(x=\"Hygene score on day 1\", y=\"Density\")"
   ]
  },
  {
   "cell_type": "code",
   "execution_count": 5,
   "id": "3d23a2bc",
   "metadata": {},
   "outputs": [
    {
     "data": {
      "text/html": [
       "<table class=\"dataframe\">\n",
       "<caption>A data.frame: 13 × 3</caption>\n",
       "<thead>\n",
       "\t<tr><th></th><th scope=col>V1</th><th scope=col>V2</th><th scope=col>V3</th></tr>\n",
       "\t<tr><th></th><th scope=col>&lt;dbl&gt;</th><th scope=col>&lt;dbl&gt;</th><th scope=col>&lt;dbl&gt;</th></tr>\n",
       "</thead>\n",
       "<tbody>\n",
       "\t<tr><th scope=row>median</th><td> 1.79000000</td><td>7.900000e-01</td><td>7.600000e-01</td></tr>\n",
       "\t<tr><th scope=row>mean</th><td> 1.77113580</td><td>9.609091e-01</td><td>9.765041e-01</td></tr>\n",
       "\t<tr><th scope=row>SE.mean</th><td> 0.02436847</td><td>4.436095e-02</td><td>6.404352e-02</td></tr>\n",
       "\t<tr><th scope=row>CI.mean.0.95</th><td> 0.04783289</td><td>8.734781e-02</td><td>1.267805e-01</td></tr>\n",
       "\t<tr><th scope=row>var</th><td> 0.48099624</td><td>5.195239e-01</td><td>5.044934e-01</td></tr>\n",
       "\t<tr><th scope=row>std.dev</th><td> 0.69353892</td><td>7.207801e-01</td><td>7.102770e-01</td></tr>\n",
       "\t<tr><th scope=row>coef.var</th><td> 0.39157862</td><td>7.501022e-01</td><td>7.273672e-01</td></tr>\n",
       "\t<tr><th scope=row>skewness</th><td>-0.00442835</td><td>1.082811e+00</td><td>1.007813e+00</td></tr>\n",
       "\t<tr><th scope=row>skew.2SE</th><td>-0.02577395</td><td>3.611574e+00</td><td>2.309035e+00</td></tr>\n",
       "\t<tr><th scope=row>kurtosis</th><td>-0.42159405</td><td>7.554615e-01</td><td>5.945454e-01</td></tr>\n",
       "\t<tr><th scope=row>kurt.2SE</th><td>-1.22838457</td><td>1.264508e+00</td><td>6.862946e-01</td></tr>\n",
       "\t<tr><th scope=row>normtest.W</th><td> 0.99591522</td><td>9.083191e-01</td><td>9.077516e-01</td></tr>\n",
       "\t<tr><th scope=row>normtest.p</th><td> 0.03198482</td><td>1.281630e-11</td><td>3.804486e-07</td></tr>\n",
       "</tbody>\n",
       "</table>\n"
      ],
      "text/latex": [
       "A data.frame: 13 × 3\n",
       "\\begin{tabular}{r|lll}\n",
       "  & V1 & V2 & V3\\\\\n",
       "  & <dbl> & <dbl> & <dbl>\\\\\n",
       "\\hline\n",
       "\tmedian &  1.79000000 & 7.900000e-01 & 7.600000e-01\\\\\n",
       "\tmean &  1.77113580 & 9.609091e-01 & 9.765041e-01\\\\\n",
       "\tSE.mean &  0.02436847 & 4.436095e-02 & 6.404352e-02\\\\\n",
       "\tCI.mean.0.95 &  0.04783289 & 8.734781e-02 & 1.267805e-01\\\\\n",
       "\tvar &  0.48099624 & 5.195239e-01 & 5.044934e-01\\\\\n",
       "\tstd.dev &  0.69353892 & 7.207801e-01 & 7.102770e-01\\\\\n",
       "\tcoef.var &  0.39157862 & 7.501022e-01 & 7.273672e-01\\\\\n",
       "\tskewness & -0.00442835 & 1.082811e+00 & 1.007813e+00\\\\\n",
       "\tskew.2SE & -0.02577395 & 3.611574e+00 & 2.309035e+00\\\\\n",
       "\tkurtosis & -0.42159405 & 7.554615e-01 & 5.945454e-01\\\\\n",
       "\tkurt.2SE & -1.22838457 & 1.264508e+00 & 6.862946e-01\\\\\n",
       "\tnormtest.W &  0.99591522 & 9.083191e-01 & 9.077516e-01\\\\\n",
       "\tnormtest.p &  0.03198482 & 1.281630e-11 & 3.804486e-07\\\\\n",
       "\\end{tabular}\n"
      ],
      "text/markdown": [
       "\n",
       "A data.frame: 13 × 3\n",
       "\n",
       "| <!--/--> | V1 &lt;dbl&gt; | V2 &lt;dbl&gt; | V3 &lt;dbl&gt; |\n",
       "|---|---|---|---|\n",
       "| median |  1.79000000 | 7.900000e-01 | 7.600000e-01 |\n",
       "| mean |  1.77113580 | 9.609091e-01 | 9.765041e-01 |\n",
       "| SE.mean |  0.02436847 | 4.436095e-02 | 6.404352e-02 |\n",
       "| CI.mean.0.95 |  0.04783289 | 8.734781e-02 | 1.267805e-01 |\n",
       "| var |  0.48099624 | 5.195239e-01 | 5.044934e-01 |\n",
       "| std.dev |  0.69353892 | 7.207801e-01 | 7.102770e-01 |\n",
       "| coef.var |  0.39157862 | 7.501022e-01 | 7.273672e-01 |\n",
       "| skewness | -0.00442835 | 1.082811e+00 | 1.007813e+00 |\n",
       "| skew.2SE | -0.02577395 | 3.611574e+00 | 2.309035e+00 |\n",
       "| kurtosis | -0.42159405 | 7.554615e-01 | 5.945454e-01 |\n",
       "| kurt.2SE | -1.22838457 | 1.264508e+00 | 6.862946e-01 |\n",
       "| normtest.W |  0.99591522 | 9.083191e-01 | 9.077516e-01 |\n",
       "| normtest.p |  0.03198482 | 1.281630e-11 | 3.804486e-07 |\n",
       "\n"
      ],
      "text/plain": [
       "             V1          V2           V3          \n",
       "median        1.79000000 7.900000e-01 7.600000e-01\n",
       "mean          1.77113580 9.609091e-01 9.765041e-01\n",
       "SE.mean       0.02436847 4.436095e-02 6.404352e-02\n",
       "CI.mean.0.95  0.04783289 8.734781e-02 1.267805e-01\n",
       "var           0.48099624 5.195239e-01 5.044934e-01\n",
       "std.dev       0.69353892 7.207801e-01 7.102770e-01\n",
       "coef.var      0.39157862 7.501022e-01 7.273672e-01\n",
       "skewness     -0.00442835 1.082811e+00 1.007813e+00\n",
       "skew.2SE     -0.02577395 3.611574e+00 2.309035e+00\n",
       "kurtosis     -0.42159405 7.554615e-01 5.945454e-01\n",
       "kurt.2SE     -1.22838457 1.264508e+00 6.862946e-01\n",
       "normtest.W    0.99591522 9.083191e-01 9.077516e-01\n",
       "normtest.p    0.03198482 1.281630e-11 3.804486e-07"
      ]
     },
     "metadata": {},
     "output_type": "display_data"
    }
   ],
   "source": [
    "library(pastecs)\n",
    "# Package for Analysis of Space-Time Ecological Series. Regularisation, decomposition and analysis of space-time series. \n",
    "stat.desc(cbind(data.norm$day1, data.norm$day2, data.norm$day3), basic=FALSE, norm=TRUE)"
   ]
  },
  {
   "cell_type": "code",
   "execution_count": 9,
   "id": "058e45a7",
   "metadata": {},
   "outputs": [
    {
     "data": {
      "text/html": [
       "<table class=\"dataframe\">\n",
       "<caption>A psych: 3 × 13</caption>\n",
       "<thead>\n",
       "\t<tr><th></th><th scope=col>vars</th><th scope=col>n</th><th scope=col>mean</th><th scope=col>sd</th><th scope=col>median</th><th scope=col>trimmed</th><th scope=col>mad</th><th scope=col>min</th><th scope=col>max</th><th scope=col>range</th><th scope=col>skew</th><th scope=col>kurtosis</th><th scope=col>se</th></tr>\n",
       "\t<tr><th></th><th scope=col>&lt;dbl&gt;</th><th scope=col>&lt;dbl&gt;</th><th scope=col>&lt;dbl&gt;</th><th scope=col>&lt;dbl&gt;</th><th scope=col>&lt;dbl&gt;</th><th scope=col>&lt;dbl&gt;</th><th scope=col>&lt;dbl&gt;</th><th scope=col>&lt;dbl&gt;</th><th scope=col>&lt;dbl&gt;</th><th scope=col>&lt;dbl&gt;</th><th scope=col>&lt;dbl&gt;</th><th scope=col>&lt;dbl&gt;</th><th scope=col>&lt;dbl&gt;</th></tr>\n",
       "</thead>\n",
       "<tbody>\n",
       "\t<tr><th scope=row>day1</th><td>1</td><td>810</td><td>1.771</td><td>0.694</td><td>1.79</td><td>1.772</td><td>0.697</td><td>0.02</td><td>3.69</td><td>3.67</td><td>-0.004</td><td>-0.422</td><td>0.024</td></tr>\n",
       "\t<tr><th scope=row>day2</th><td>2</td><td>264</td><td>0.961</td><td>0.721</td><td>0.79</td><td>0.869</td><td>0.608</td><td>0.00</td><td>3.44</td><td>3.44</td><td> 1.083</td><td> 0.755</td><td>0.044</td></tr>\n",
       "\t<tr><th scope=row>day3</th><td>3</td><td>123</td><td>0.977</td><td>0.710</td><td>0.76</td><td>0.902</td><td>0.608</td><td>0.02</td><td>3.41</td><td>3.39</td><td> 1.008</td><td> 0.595</td><td>0.064</td></tr>\n",
       "</tbody>\n",
       "</table>\n"
      ],
      "text/latex": [
       "A psych: 3 × 13\n",
       "\\begin{tabular}{r|lllllllllllll}\n",
       "  & vars & n & mean & sd & median & trimmed & mad & min & max & range & skew & kurtosis & se\\\\\n",
       "  & <dbl> & <dbl> & <dbl> & <dbl> & <dbl> & <dbl> & <dbl> & <dbl> & <dbl> & <dbl> & <dbl> & <dbl> & <dbl>\\\\\n",
       "\\hline\n",
       "\tday1 & 1 & 810 & 1.771 & 0.694 & 1.79 & 1.772 & 0.697 & 0.02 & 3.69 & 3.67 & -0.004 & -0.422 & 0.024\\\\\n",
       "\tday2 & 2 & 264 & 0.961 & 0.721 & 0.79 & 0.869 & 0.608 & 0.00 & 3.44 & 3.44 &  1.083 &  0.755 & 0.044\\\\\n",
       "\tday3 & 3 & 123 & 0.977 & 0.710 & 0.76 & 0.902 & 0.608 & 0.02 & 3.41 & 3.39 &  1.008 &  0.595 & 0.064\\\\\n",
       "\\end{tabular}\n"
      ],
      "text/markdown": [
       "\n",
       "A psych: 3 × 13\n",
       "\n",
       "| <!--/--> | vars &lt;dbl&gt; | n &lt;dbl&gt; | mean &lt;dbl&gt; | sd &lt;dbl&gt; | median &lt;dbl&gt; | trimmed &lt;dbl&gt; | mad &lt;dbl&gt; | min &lt;dbl&gt; | max &lt;dbl&gt; | range &lt;dbl&gt; | skew &lt;dbl&gt; | kurtosis &lt;dbl&gt; | se &lt;dbl&gt; |\n",
       "|---|---|---|---|---|---|---|---|---|---|---|---|---|---|\n",
       "| day1 | 1 | 810 | 1.771 | 0.694 | 1.79 | 1.772 | 0.697 | 0.02 | 3.69 | 3.67 | -0.004 | -0.422 | 0.024 |\n",
       "| day2 | 2 | 264 | 0.961 | 0.721 | 0.79 | 0.869 | 0.608 | 0.00 | 3.44 | 3.44 |  1.083 |  0.755 | 0.044 |\n",
       "| day3 | 3 | 123 | 0.977 | 0.710 | 0.76 | 0.902 | 0.608 | 0.02 | 3.41 | 3.39 |  1.008 |  0.595 | 0.064 |\n",
       "\n"
      ],
      "text/plain": [
       "     vars n   mean  sd    median trimmed mad   min  max  range skew   kurtosis\n",
       "day1 1    810 1.771 0.694 1.79   1.772   0.697 0.02 3.69 3.67  -0.004 -0.422  \n",
       "day2 2    264 0.961 0.721 0.79   0.869   0.608 0.00 3.44 3.44   1.083  0.755  \n",
       "day3 3    123 0.977 0.710 0.76   0.902   0.608 0.02 3.41 3.39   1.008  0.595  \n",
       "     se   \n",
       "day1 0.024\n",
       "day2 0.044\n",
       "day3 0.064"
      ]
     },
     "metadata": {},
     "output_type": "display_data"
    }
   ],
   "source": [
    "#menggunakan pembulatan agar lebih terbaca paket psych\n",
    "#round ini hanya untuk membulatkan saja, fungsi asli dimulai dari describe()\n",
    "library(psych)\n",
    "round(describe(data.norm[, c(\"day1\", \"day2\", \"day3\")]), digits=3)"
   ]
  },
  {
   "cell_type": "code",
   "execution_count": 10,
   "id": "35d972b5",
   "metadata": {},
   "outputs": [
    {
     "data": {
      "text/html": [
       "<table class=\"dataframe\">\n",
       "<caption>A data.frame: 13 × 3</caption>\n",
       "<thead>\n",
       "\t<tr><th></th><th scope=col>day1</th><th scope=col>day2</th><th scope=col>day3</th></tr>\n",
       "\t<tr><th></th><th scope=col>&lt;dbl&gt;</th><th scope=col>&lt;dbl&gt;</th><th scope=col>&lt;dbl&gt;</th></tr>\n",
       "</thead>\n",
       "<tbody>\n",
       "\t<tr><th scope=row>median</th><td> 1.790</td><td>0.790</td><td>0.760</td></tr>\n",
       "\t<tr><th scope=row>mean</th><td> 1.771</td><td>0.961</td><td>0.977</td></tr>\n",
       "\t<tr><th scope=row>SE.mean</th><td> 0.024</td><td>0.044</td><td>0.064</td></tr>\n",
       "\t<tr><th scope=row>CI.mean.0.95</th><td> 0.048</td><td>0.087</td><td>0.127</td></tr>\n",
       "\t<tr><th scope=row>var</th><td> 0.481</td><td>0.520</td><td>0.504</td></tr>\n",
       "\t<tr><th scope=row>std.dev</th><td> 0.694</td><td>0.721</td><td>0.710</td></tr>\n",
       "\t<tr><th scope=row>coef.var</th><td> 0.392</td><td>0.750</td><td>0.727</td></tr>\n",
       "\t<tr><th scope=row>skewness</th><td>-0.004</td><td>1.083</td><td>1.008</td></tr>\n",
       "\t<tr><th scope=row>skew.2SE</th><td>-0.026</td><td>3.612</td><td>2.309</td></tr>\n",
       "\t<tr><th scope=row>kurtosis</th><td>-0.422</td><td>0.755</td><td>0.595</td></tr>\n",
       "\t<tr><th scope=row>kurt.2SE</th><td>-1.228</td><td>1.265</td><td>0.686</td></tr>\n",
       "\t<tr><th scope=row>normtest.W</th><td> 0.996</td><td>0.908</td><td>0.908</td></tr>\n",
       "\t<tr><th scope=row>normtest.p</th><td> 0.032</td><td>0.000</td><td>0.000</td></tr>\n",
       "</tbody>\n",
       "</table>\n"
      ],
      "text/latex": [
       "A data.frame: 13 × 3\n",
       "\\begin{tabular}{r|lll}\n",
       "  & day1 & day2 & day3\\\\\n",
       "  & <dbl> & <dbl> & <dbl>\\\\\n",
       "\\hline\n",
       "\tmedian &  1.790 & 0.790 & 0.760\\\\\n",
       "\tmean &  1.771 & 0.961 & 0.977\\\\\n",
       "\tSE.mean &  0.024 & 0.044 & 0.064\\\\\n",
       "\tCI.mean.0.95 &  0.048 & 0.087 & 0.127\\\\\n",
       "\tvar &  0.481 & 0.520 & 0.504\\\\\n",
       "\tstd.dev &  0.694 & 0.721 & 0.710\\\\\n",
       "\tcoef.var &  0.392 & 0.750 & 0.727\\\\\n",
       "\tskewness & -0.004 & 1.083 & 1.008\\\\\n",
       "\tskew.2SE & -0.026 & 3.612 & 2.309\\\\\n",
       "\tkurtosis & -0.422 & 0.755 & 0.595\\\\\n",
       "\tkurt.2SE & -1.228 & 1.265 & 0.686\\\\\n",
       "\tnormtest.W &  0.996 & 0.908 & 0.908\\\\\n",
       "\tnormtest.p &  0.032 & 0.000 & 0.000\\\\\n",
       "\\end{tabular}\n"
      ],
      "text/markdown": [
       "\n",
       "A data.frame: 13 × 3\n",
       "\n",
       "| <!--/--> | day1 &lt;dbl&gt; | day2 &lt;dbl&gt; | day3 &lt;dbl&gt; |\n",
       "|---|---|---|---|\n",
       "| median |  1.790 | 0.790 | 0.760 |\n",
       "| mean |  1.771 | 0.961 | 0.977 |\n",
       "| SE.mean |  0.024 | 0.044 | 0.064 |\n",
       "| CI.mean.0.95 |  0.048 | 0.087 | 0.127 |\n",
       "| var |  0.481 | 0.520 | 0.504 |\n",
       "| std.dev |  0.694 | 0.721 | 0.710 |\n",
       "| coef.var |  0.392 | 0.750 | 0.727 |\n",
       "| skewness | -0.004 | 1.083 | 1.008 |\n",
       "| skew.2SE | -0.026 | 3.612 | 2.309 |\n",
       "| kurtosis | -0.422 | 0.755 | 0.595 |\n",
       "| kurt.2SE | -1.228 | 1.265 | 0.686 |\n",
       "| normtest.W |  0.996 | 0.908 | 0.908 |\n",
       "| normtest.p |  0.032 | 0.000 | 0.000 |\n",
       "\n"
      ],
      "text/plain": [
       "             day1   day2  day3 \n",
       "median        1.790 0.790 0.760\n",
       "mean          1.771 0.961 0.977\n",
       "SE.mean       0.024 0.044 0.064\n",
       "CI.mean.0.95  0.048 0.087 0.127\n",
       "var           0.481 0.520 0.504\n",
       "std.dev       0.694 0.721 0.710\n",
       "coef.var      0.392 0.750 0.727\n",
       "skewness     -0.004 1.083 1.008\n",
       "skew.2SE     -0.026 3.612 2.309\n",
       "kurtosis     -0.422 0.755 0.595\n",
       "kurt.2SE     -1.228 1.265 0.686\n",
       "normtest.W    0.996 0.908 0.908\n",
       "normtest.p    0.032 0.000 0.000"
      ]
     },
     "metadata": {},
     "output_type": "display_data"
    }
   ],
   "source": [
    "#pengukuran statistik yg sama dengan pembulatan dengan paket pastecs\n",
    "round(stat.desc(data.norm[, c(\"day1\", \"day2\", \"day3\")], basic=FALSE, norm=TRUE),digits=3)"
   ]
  },
  {
   "cell_type": "markdown",
   "id": "985a7524",
   "metadata": {},
   "source": [
    "__Nilai kurtosis__ pada paket psych dan pastec agak berbeda karena, paket pscyh describe menggunakan unbiased estimate"
   ]
  },
  {
   "cell_type": "markdown",
   "id": "97cbfd8f",
   "metadata": {},
   "source": [
    "# 2. Membaca Hasil Pengukuran Normalitas \n",
    "***"
   ]
  },
  {
   "cell_type": "markdown",
   "id": "d8ba3f60",
   "metadata": {},
   "source": [
    "Deskripsi atas kemencengan dan keruncingan :\n",
    "\n",
    "| a | day1|day2|day3|\n",
    "|:--- |:--- |:--- |:--- |\n",
    "| __skewness__ | -0.004 | 1.083  | 1.008  | \n",
    "| __kurtosis__  | -0.422  | 0.755  | 0.595  | \n",
    "\n",
    "\n",
    "Kemencengan (skewness) Indikator yang menunjukkan derajat kesimetrian suatu distribusi.<br>\n",
    "__Day 1__<br>\n",
    "* Terlihat bahwa terdapat sedikit kemencengan ke ke kiri, terdapat lebih banyak nilai di sisi kanan kurva.\n",
    "* Platikurtis - Jika lebih rendah dari 3, maka disebut platikurtis.\n",
    "\n",
    "Tidak hanya itu, tetapi dari gambar distribusi bisa dilihat bahwa day 1 mengalami bimodal, dua puncak.\n",
    "Kita bisa juga menghitung nilai z:"
   ]
  },
  {
   "cell_type": "code",
   "execution_count": 17,
   "id": "48347a4b",
   "metadata": {},
   "outputs": [],
   "source": [
    "skew_to_z <- function(skew, se) {\n",
    "  skew_to_z <- (skew-0)/(se)\n",
    "  return(skew_to_z)\n",
    "}\n",
    "kurt_to_z <- function(kurt, se) {\n",
    "  kurt_to_z <- (kurt-0)/(se)\n",
    "  return(kurt_to_z)\n",
    "}"
   ]
  },
  {
   "cell_type": "code",
   "execution_count": 43,
   "id": "4816bd81",
   "metadata": {},
   "outputs": [
    {
     "name": "stdout",
     "output_type": "stream",
     "text": [
      " z for skewness -0.167 \n",
      " z for kurtosis -17.583"
     ]
    }
   ],
   "source": [
    "cat(\" z for skewness\", round(skew_to_z(-0.004,0.024),3), \"\\n\",\"z for kurtosis\", round(kurt_to_z(-0.422,0.024),3))"
   ]
  },
  {
   "cell_type": "code",
   "execution_count": 84,
   "id": "c7124f21",
   "metadata": {},
   "outputs": [
    {
     "data": {
      "image/png": "[encoded data removed]",
      "text/plain": [
       "plot without title"
      ]
     },
     "metadata": {
      "image/png": {
       "height": 480,
       "width": 900
      }
     },
     "output_type": "display_data"
    }
   ],
   "source": [
    "hist.day1+stat_function(\n",
    "    fun=dnorm, \n",
    "    args=list(mean=mean(data.norm$day1, na.rm=TRUE)), \n",
    "    colour=\"black\", size=1)+    \n",
    "    labs(title = \"QQPlot Day1\")+\n",
    "    theme_stata()"
   ]
  },
  {
   "cell_type": "code",
   "execution_count": 83,
   "id": "7b6d8f7d",
   "metadata": {},
   "outputs": [
    {
     "name": "stderr",
     "output_type": "stream",
     "text": [
      "Warning message:\n",
      "\"Removed 546 rows containing non-finite values (stat_density).\"\n"
     ]
    },
    {
     "data": {
      "image/png": "[encoded data removed]",
      "text/plain": [
       "plot without title"
      ]
     },
     "metadata": {
      "image/png": {
       "height": 480,
       "width": 900
      }
     },
     "output_type": "display_data"
    }
   ],
   "source": [
    "hist.day2<-ggplot(\n",
    "    data.norm, aes(day2))+\n",
    "    geom_density( colour=\"black\", fill=\"white\", size=1)+\n",
    "    labs(x=\"Hygene score on day 2\", y=\"Density\")+\n",
    "    labs(title = \"QQPlot Day2\")+\n",
    "    theme_stata()\n",
    "hist.day2+stat_function(\n",
    "    fun=dnorm, \n",
    "    args=list(mean=mean(data.norm$day2, na.rm=TRUE)), \n",
    "    colour=\"black\", size=1\n",
    ")"
   ]
  },
  {
   "cell_type": "code",
   "execution_count": 82,
   "id": "cb21ee9a",
   "metadata": {},
   "outputs": [
    {
     "name": "stderr",
     "output_type": "stream",
     "text": [
      "Warning message:\n",
      "\"Removed 687 rows containing non-finite values (stat_density).\"\n"
     ]
    },
    {
     "data": {
      "image/png": "[encoded data removed]",
      "text/plain": [
       "plot without title"
      ]
     },
     "metadata": {
      "image/png": {
       "height": 480,
       "width": 900
      }
     },
     "output_type": "display_data"
    }
   ],
   "source": [
    "hist.day3<-ggplot(\n",
    "    data.norm, aes(day3))+\n",
    "    geom_density( colour=\"black\", fill=\"white\", size=1)+\n",
    "    labs(x=\"Hygene score on day 3\", y=\"Density\")+\n",
    "    labs(title = \"QQPlot Day3\")+\n",
    "    theme_stata()\n",
    "hist.day3+stat_function(\n",
    "    fun=dnorm, \n",
    "    args=list(mean=mean(data.norm$day3, na.rm=TRUE)), \n",
    "    colour=\"black\", size=1\n",
    ")"
   ]
  },
  {
   "cell_type": "markdown",
   "id": "50304942",
   "metadata": {},
   "source": [
    "# 3. QQ Plot"
   ]
  },
  {
   "cell_type": "code",
   "execution_count": 69,
   "id": "72379460",
   "metadata": {},
   "outputs": [
    {
     "name": "stderr",
     "output_type": "stream",
     "text": [
      "Warning message:\n",
      "\"Removed 687 rows containing non-finite values (stat_qq).\"\n"
     ]
    },
    {
     "data": {
      "image/png": "[encoded data removed]",
      "text/plain": [
       "plot without title"
      ]
     },
     "metadata": {
      "image/png": {
       "height": 480,
       "width": 900
      }
     },
     "output_type": "display_data"
    }
   ],
   "source": [
    "library(ggplot2)\n",
    "library(ggthemes)\n",
    "library(gridExtra)\n",
    "qqplot.day1<-qplot(sample=data.norm$day1)+\n",
    "labs(title = \"QQPlot Day1\")+\n",
    "theme_stata()\n",
    "#qqplot.day1\n",
    "qqplot.day2<-qplot(sample=data.norm$day2)+\n",
    "labs(title = \"QQPlot Day2\")+\n",
    "theme_stata()\n",
    "#qqplot.day2\n",
    "qqplot.day3<-qplot(sample=data.norm$day3)+\n",
    "labs(title = \"QQPlot Day3\")+\n",
    "theme_stata()\n",
    "#qqplot.day3\n",
    "options(repr.plot.width=15, repr.plot.height=8) \n",
    "grid.arrange(qqplot.day1, qqplot.day1, qqplot.day3, nrow = 1)"
   ]
  },
  {
   "cell_type": "markdown",
   "id": "0f53900d",
   "metadata": {},
   "source": [
    "# 4. Shapiro-Wilk Test \n",
    "\n",
    "Membandingkan metode uji normalitas ini efektif dan valid digunakan untuk sampel berjumlah kecil. \n",
    "Indikator:\n",
    "+ Jika $p<.05$ distribusi sampel berbeda jauh dengan distribusi populasi\n",
    "+ Jika $p>.05$ distribusi sampel tidak terlalu berbeda jauh dengan distribusi populasi\n",
    "\n",
    "Namun, test ini tidak terlalu baik untuk data yang jumlahnya besar, karena akan sangat mudah untuk menjadi normal."
   ]
  },
  {
   "cell_type": "code",
   "execution_count": 56,
   "id": "17542c6f",
   "metadata": {},
   "outputs": [
    {
     "data": {
      "text/html": [
       "<table class=\"dataframe\">\n",
       "<caption>A data.frame: 6 × 5</caption>\n",
       "<thead>\n",
       "\t<tr><th></th><th scope=col>exam</th><th scope=col>computer</th><th scope=col>lectures</th><th scope=col>numeracy</th><th scope=col>uni</th></tr>\n",
       "\t<tr><th></th><th scope=col>&lt;int&gt;</th><th scope=col>&lt;int&gt;</th><th scope=col>&lt;dbl&gt;</th><th scope=col>&lt;int&gt;</th><th scope=col>&lt;int&gt;</th></tr>\n",
       "</thead>\n",
       "<tbody>\n",
       "\t<tr><th scope=row>1</th><td>18</td><td>54</td><td>75.0</td><td>7</td><td>0</td></tr>\n",
       "\t<tr><th scope=row>2</th><td>30</td><td>47</td><td> 8.5</td><td>1</td><td>0</td></tr>\n",
       "\t<tr><th scope=row>3</th><td>40</td><td>58</td><td>69.5</td><td>6</td><td>0</td></tr>\n",
       "\t<tr><th scope=row>4</th><td>30</td><td>37</td><td>67.0</td><td>6</td><td>0</td></tr>\n",
       "\t<tr><th scope=row>5</th><td>40</td><td>53</td><td>44.5</td><td>2</td><td>0</td></tr>\n",
       "\t<tr><th scope=row>6</th><td>15</td><td>48</td><td>76.5</td><td>8</td><td>0</td></tr>\n",
       "</tbody>\n",
       "</table>\n"
      ],
      "text/latex": [
       "A data.frame: 6 × 5\n",
       "\\begin{tabular}{r|lllll}\n",
       "  & exam & computer & lectures & numeracy & uni\\\\\n",
       "  & <int> & <int> & <dbl> & <int> & <int>\\\\\n",
       "\\hline\n",
       "\t1 & 18 & 54 & 75.0 & 7 & 0\\\\\n",
       "\t2 & 30 & 47 &  8.5 & 1 & 0\\\\\n",
       "\t3 & 40 & 58 & 69.5 & 6 & 0\\\\\n",
       "\t4 & 30 & 37 & 67.0 & 6 & 0\\\\\n",
       "\t5 & 40 & 53 & 44.5 & 2 & 0\\\\\n",
       "\t6 & 15 & 48 & 76.5 & 8 & 0\\\\\n",
       "\\end{tabular}\n"
      ],
      "text/markdown": [
       "\n",
       "A data.frame: 6 × 5\n",
       "\n",
       "| <!--/--> | exam &lt;int&gt; | computer &lt;int&gt; | lectures &lt;dbl&gt; | numeracy &lt;int&gt; | uni &lt;int&gt; |\n",
       "|---|---|---|---|---|---|\n",
       "| 1 | 18 | 54 | 75.0 | 7 | 0 |\n",
       "| 2 | 30 | 47 |  8.5 | 1 | 0 |\n",
       "| 3 | 40 | 58 | 69.5 | 6 | 0 |\n",
       "| 4 | 30 | 37 | 67.0 | 6 | 0 |\n",
       "| 5 | 40 | 53 | 44.5 | 2 | 0 |\n",
       "| 6 | 15 | 48 | 76.5 | 8 | 0 |\n",
       "\n"
      ],
      "text/plain": [
       "  exam computer lectures numeracy uni\n",
       "1 18   54       75.0     7        0  \n",
       "2 30   47        8.5     1        0  \n",
       "3 40   58       69.5     6        0  \n",
       "4 30   37       67.0     6        0  \n",
       "5 40   53       44.5     2        0  \n",
       "6 15   48       76.5     8        0  "
      ]
     },
     "metadata": {},
     "output_type": "display_data"
    }
   ],
   "source": [
    "data.exam<-read.delim(\"RExam.dat\", header=TRUE)\n",
    "head(data.exam, size=5)"
   ]
  },
  {
   "cell_type": "code",
   "execution_count": 62,
   "id": "ad04d4ab",
   "metadata": {},
   "outputs": [
    {
     "data": {
      "text/plain": [
       "\n",
       "\tShapiro-Wilk normality test\n",
       "\n",
       "data:  data.exam$exam\n",
       "W = 0.96131, p-value = 0.004991\n"
      ]
     },
     "metadata": {},
     "output_type": "display_data"
    },
    {
     "data": {
      "text/plain": [
       "\n",
       "\tShapiro-Wilk normality test\n",
       "\n",
       "data:  data.exam$numeracy\n",
       "W = 0.92439, p-value = 2.424e-05\n"
      ]
     },
     "metadata": {},
     "output_type": "display_data"
    }
   ],
   "source": [
    "shapiro.test(data.exam$exam)\n",
    "shapiro.test(data.exam$numeracy)"
   ]
  }
 ],
 "metadata": {
  "kernelspec": {
   "display_name": "R",
   "language": "R",
   "name": "ir"
  },
  "language_info": {
   "codemirror_mode": "r",
   "file_extension": ".r",
   "mimetype": "text/x-r-source",
   "name": "R",
   "pygments_lexer": "r",
   "version": "4.1.0"
  }
 },
 "nbformat": 4,
 "nbformat_minor": 5
}
