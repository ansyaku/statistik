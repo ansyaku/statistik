{
 "cells": [
  {
   "cell_type": "markdown",
   "id": "2d1bb894",
   "metadata": {},
   "source": [
    "# Korelasi\n",
    "***\n",
    "\n",
    "$Variance (s^2) = \\frac{(x_i-\\bar x)(x_i-\\bar x)}{N-1}$ \n",
    "\n",
    "* Apabila kita tertarik untuk mengerahui apakah dua variabel berkorelasi satu sama lain maka kita harus melihat apakah perubahan pada suatu variabel akan diikuti oleh perubahan pada variabel lain.\n",
    "* Apabila suatu variabel terdeviasi dari meannya maka kita berharap variabel lainnya akan terdeviasi dari mean dengan cara yang sama."
   ]
  },
  {
   "cell_type": "markdown",
   "id": "75eab665",
   "metadata": {},
   "source": [
    "# Bivariate Correlation\n",
    "korelasi antara dua variabel \n",
    "## Pearson Correlation\n",
    "## Spearman Correlation\n",
    "## Kendall Tau"
   ]
  },
  {
   "cell_type": "markdown",
   "id": "428622c4",
   "metadata": {},
   "source": [
    "Di dalam r ada beberapa cara untuk menghitung korelasi :\n",
    "* __cor()__ r base\n",
    "* __cor.test()__ r base\n",
    "* __rcorr()__ melalui paket *Hmisc*"
   ]
  },
  {
   "cell_type": "markdown",
   "id": "022139e2",
   "metadata": {},
   "source": [
    "# Partial Correlation\n",
    "korelasi antara dua variabel sambil melakukan kontrol pada efek dari satu atau lebih variabel tambahan"
   ]
  },
  {
   "cell_type": "code",
   "execution_count": 1,
   "id": "db290400",
   "metadata": {},
   "outputs": [],
   "source": [
    "data.corr<-read.delim(\"Exam Anxiety.dat\", header=TRUE)"
   ]
  },
  {
   "cell_type": "code",
   "execution_count": 3,
   "id": "4fca13d1",
   "metadata": {},
   "outputs": [
    {
     "data": {
      "text/plain": [
       "      Code           Revise           Exam           Anxiety      \n",
       " Min.   :  1.0   Min.   : 0.00   Min.   :  2.00   Min.   : 0.056  \n",
       " 1st Qu.: 26.5   1st Qu.: 8.00   1st Qu.: 40.00   1st Qu.:69.775  \n",
       " Median : 52.0   Median :15.00   Median : 60.00   Median :79.044  \n",
       " Mean   : 52.0   Mean   :19.85   Mean   : 56.57   Mean   :74.344  \n",
       " 3rd Qu.: 77.5   3rd Qu.:23.50   3rd Qu.: 80.00   3rd Qu.:84.686  \n",
       " Max.   :103.0   Max.   :98.00   Max.   :100.00   Max.   :97.582  \n",
       "    Gender         \n",
       " Length:103        \n",
       " Class :character  \n",
       " Mode  :character  \n",
       "                   \n",
       "                   \n",
       "                   "
      ]
     },
     "metadata": {},
     "output_type": "display_data"
    }
   ],
   "source": [
    "summary(data.corr)"
   ]
  },
  {
   "cell_type": "code",
   "execution_count": 4,
   "id": "fa70af7c",
   "metadata": {},
   "outputs": [
    {
     "name": "stdout",
     "output_type": "stream",
     "text": [
      "'data.frame':\t103 obs. of  5 variables:\n",
      " $ Code   : int  1 2 3 4 5 6 7 8 9 10 ...\n",
      " $ Revise : int  4 11 27 53 4 22 16 21 25 18 ...\n",
      " $ Exam   : int  40 65 80 80 40 70 20 55 50 40 ...\n",
      " $ Anxiety: num  86.3 88.7 70.2 61.3 89.5 ...\n",
      " $ Gender : chr  \"Male\" \"Female\" \"Male\" \"Male\" ...\n"
     ]
    }
   ],
   "source": [
    "str(data.corr)"
   ]
  },
  {
   "cell_type": "code",
   "execution_count": 5,
   "id": "9123fc17",
   "metadata": {},
   "outputs": [
    {
     "ename": "ERROR",
     "evalue": "Error in cor(data.corr, use = \"complete.obs\", method = \"pearson\"): 'x' must be numeric\n",
     "output_type": "error",
     "traceback": [
      "Error in cor(data.corr, use = \"complete.obs\", method = \"pearson\"): 'x' must be numeric\nTraceback:\n",
      "1. cor(data.corr, use = \"complete.obs\", method = \"pearson\")",
      "2. stop(\"'x' must be numeric\")"
     ]
    }
   ],
   "source": [
    "cor(data.corr, use=\"complete.obs\", method=\"pearson\")"
   ]
  },
  {
   "cell_type": "code",
   "execution_count": 11,
   "id": "0a36df47",
   "metadata": {},
   "outputs": [
    {
     "data": {
      "text/html": [
       "-0.440993411608789"
      ],
      "text/latex": [
       "-0.440993411608789"
      ],
      "text/markdown": [
       "-0.440993411608789"
      ],
      "text/plain": [
       "[1] -0.4409934"
      ]
     },
     "metadata": {},
     "output_type": "display_data"
    }
   ],
   "source": [
    "cor(data.corr$Exam, data.corr$Anxiety, use=\"complete.obs\", method=\"pearson\")"
   ]
  },
  {
   "cell_type": "code",
   "execution_count": 10,
   "id": "61e23e47",
   "metadata": {},
   "outputs": [
    {
     "data": {
      "text/html": [
       "-0.284791875904157"
      ],
      "text/latex": [
       "-0.284791875904157"
      ],
      "text/markdown": [
       "-0.284791875904157"
      ],
      "text/plain": [
       "[1] -0.2847919"
      ]
     },
     "metadata": {},
     "output_type": "display_data"
    }
   ],
   "source": [
    "cor(data.corr$Exam, data.corr$Anxiety, use=\"complete.obs\", method=\"kendall\")"
   ]
  },
  {
   "cell_type": "code",
   "execution_count": 9,
   "id": "98e26688",
   "metadata": {},
   "outputs": [
    {
     "data": {
      "text/html": [
       "-0.284791875904157"
      ],
      "text/latex": [
       "-0.284791875904157"
      ],
      "text/markdown": [
       "-0.284791875904157"
      ],
      "text/plain": [
       "[1] -0.2847919"
      ]
     },
     "metadata": {},
     "output_type": "display_data"
    }
   ],
   "source": [
    "cor(data.corr$Exam, data.corr$Anxiety, use=\"pairwise.complete.obs\", method=\"kendall\")"
   ]
  },
  {
   "cell_type": "code",
   "execution_count": 16,
   "id": "20bae9c0",
   "metadata": {},
   "outputs": [
    {
     "data": {
      "text/plain": [
       "      x     y\n",
       "x  1.00 -0.44\n",
       "y -0.44  1.00\n",
       "\n",
       "n= 103 \n",
       "\n",
       "\n",
       "P\n",
       "  x  y \n",
       "x     0\n",
       "y  0   "
      ]
     },
     "metadata": {},
     "output_type": "display_data"
    }
   ],
   "source": [
    "library(Hmisc)\n",
    "rcorr(data.corr$Exam, data.corr$Anxiety, type=\"pearson\")"
   ]
  },
  {
   "cell_type": "code",
   "execution_count": 17,
   "id": "d3489224",
   "metadata": {},
   "outputs": [
    {
     "data": {
      "text/plain": [
       "     x    y\n",
       "x  1.0 -0.4\n",
       "y -0.4  1.0\n",
       "\n",
       "n= 103 \n",
       "\n",
       "\n",
       "P\n",
       "  x  y \n",
       "x     0\n",
       "y  0   "
      ]
     },
     "metadata": {},
     "output_type": "display_data"
    }
   ],
   "source": [
    "library(Hmisc)\n",
    "rcorr(data.corr$Exam, data.corr$Anxiety, type=\"spearman\")"
   ]
  },
  {
   "cell_type": "code",
   "execution_count": 18,
   "id": "0e538bcb",
   "metadata": {},
   "outputs": [
    {
     "data": {
      "text/plain": [
       "\n",
       "\tPearson's product-moment correlation\n",
       "\n",
       "data:  data.corr$Exam and data.corr$Anxiety\n",
       "t = -4.938, df = 101, p-value = 3.128e-06\n",
       "alternative hypothesis: true correlation is not equal to 0\n",
       "95 percent confidence interval:\n",
       " -0.5846244 -0.2705591\n",
       "sample estimates:\n",
       "       cor \n",
       "-0.4409934 \n"
      ]
     },
     "metadata": {},
     "output_type": "display_data"
    }
   ],
   "source": [
    "cor.test(data.corr$Exam, data.corr$Anxiety, type=\"spearman\")"
   ]
  },
  {
   "cell_type": "markdown",
   "id": "1252fd55",
   "metadata": {},
   "source": [
    "UNtuk dapat digunakan sebagai test signifikasi, maka lebih banyak asumsi yang diperlukan: harus bersitribusi normal\n",
    "kedua variabel juga harus normallu distributed\n",
    "\n",
    "Jika tidak normal. gunakan korelsi lain atau bootstraping"
   ]
  },
  {
   "cell_type": "code",
   "execution_count": 20,
   "id": "8a8e8800",
   "metadata": {},
   "outputs": [
    {
     "data": {
      "text/html": [
       "<table class=\"dataframe\">\n",
       "<caption>A matrix: 3 × 3 of type dbl</caption>\n",
       "<thead>\n",
       "\t<tr><th></th><th scope=col>Exam</th><th scope=col>Anxiety</th><th scope=col>Revise</th></tr>\n",
       "</thead>\n",
       "<tbody>\n",
       "\t<tr><th scope=row>Exam</th><td> 1.0000000</td><td>-0.4409934</td><td> 0.3967207</td></tr>\n",
       "\t<tr><th scope=row>Anxiety</th><td>-0.4409934</td><td> 1.0000000</td><td>-0.7092493</td></tr>\n",
       "\t<tr><th scope=row>Revise</th><td> 0.3967207</td><td>-0.7092493</td><td> 1.0000000</td></tr>\n",
       "</tbody>\n",
       "</table>\n"
      ],
      "text/latex": [
       "A matrix: 3 × 3 of type dbl\n",
       "\\begin{tabular}{r|lll}\n",
       "  & Exam & Anxiety & Revise\\\\\n",
       "\\hline\n",
       "\tExam &  1.0000000 & -0.4409934 &  0.3967207\\\\\n",
       "\tAnxiety & -0.4409934 &  1.0000000 & -0.7092493\\\\\n",
       "\tRevise &  0.3967207 & -0.7092493 &  1.0000000\\\\\n",
       "\\end{tabular}\n"
      ],
      "text/markdown": [
       "\n",
       "A matrix: 3 × 3 of type dbl\n",
       "\n",
       "| <!--/--> | Exam | Anxiety | Revise |\n",
       "|---|---|---|---|\n",
       "| Exam |  1.0000000 | -0.4409934 |  0.3967207 |\n",
       "| Anxiety | -0.4409934 |  1.0000000 | -0.7092493 |\n",
       "| Revise |  0.3967207 | -0.7092493 |  1.0000000 |\n",
       "\n"
      ],
      "text/plain": [
       "        Exam       Anxiety    Revise    \n",
       "Exam     1.0000000 -0.4409934  0.3967207\n",
       "Anxiety -0.4409934  1.0000000 -0.7092493\n",
       "Revise   0.3967207 -0.7092493  1.0000000"
      ]
     },
     "metadata": {},
     "output_type": "display_data"
    }
   ],
   "source": [
    "data.corr2<-data.corr[,c(\"Exam\", \"Anxiety\", \"Revise\")]\n",
    "cor(data.corr2)"
   ]
  },
  {
   "cell_type": "markdown",
   "id": "6a49c8e7",
   "metadata": {},
   "source": [
    "# Using R^2"
   ]
  },
  {
   "cell_type": "code",
   "execution_count": 24,
   "id": "124f2c24",
   "metadata": {},
   "outputs": [
    {
     "data": {
      "text/html": [
       "<table class=\"dataframe\">\n",
       "<caption>A matrix: 3 × 3 of type dbl</caption>\n",
       "<thead>\n",
       "\t<tr><th></th><th scope=col>Exam</th><th scope=col>Anxiety</th><th scope=col>Revise</th></tr>\n",
       "</thead>\n",
       "<tbody>\n",
       "\t<tr><th scope=row>Exam</th><td>100.00</td><td> 19.45</td><td> 15.74</td></tr>\n",
       "\t<tr><th scope=row>Anxiety</th><td> 19.45</td><td>100.00</td><td> 50.30</td></tr>\n",
       "\t<tr><th scope=row>Revise</th><td> 15.74</td><td> 50.30</td><td>100.00</td></tr>\n",
       "</tbody>\n",
       "</table>\n"
      ],
      "text/latex": [
       "A matrix: 3 × 3 of type dbl\n",
       "\\begin{tabular}{r|lll}\n",
       "  & Exam & Anxiety & Revise\\\\\n",
       "\\hline\n",
       "\tExam & 100.00 &  19.45 &  15.74\\\\\n",
       "\tAnxiety &  19.45 & 100.00 &  50.30\\\\\n",
       "\tRevise &  15.74 &  50.30 & 100.00\\\\\n",
       "\\end{tabular}\n"
      ],
      "text/markdown": [
       "\n",
       "A matrix: 3 × 3 of type dbl\n",
       "\n",
       "| <!--/--> | Exam | Anxiety | Revise |\n",
       "|---|---|---|---|\n",
       "| Exam | 100.00 |  19.45 |  15.74 |\n",
       "| Anxiety |  19.45 | 100.00 |  50.30 |\n",
       "| Revise |  15.74 |  50.30 | 100.00 |\n",
       "\n"
      ],
      "text/plain": [
       "        Exam   Anxiety Revise\n",
       "Exam    100.00  19.45   15.74\n",
       "Anxiety  19.45 100.00   50.30\n",
       "Revise   15.74  50.30  100.00"
      ]
     },
     "metadata": {},
     "output_type": "display_data"
    }
   ],
   "source": [
    "round((cor(data.corr2)^2)*100, 2)"
   ]
  },
  {
   "cell_type": "code",
   "execution_count": null,
   "id": "88676046",
   "metadata": {},
   "outputs": [],
   "source": []
  },
  {
   "cell_type": "code",
   "execution_count": null,
   "id": "1a95cd4d",
   "metadata": {},
   "outputs": [],
   "source": []
  },
  {
   "cell_type": "code",
   "execution_count": null,
   "id": "e5b5399d",
   "metadata": {},
   "outputs": [],
   "source": []
  },
  {
   "cell_type": "code",
   "execution_count": null,
   "id": "5491d9b0",
   "metadata": {},
   "outputs": [],
   "source": []
  },
  {
   "cell_type": "code",
   "execution_count": null,
   "id": "78da0c20",
   "metadata": {},
   "outputs": [],
   "source": []
  },
  {
   "cell_type": "code",
   "execution_count": null,
   "id": "03f43928",
   "metadata": {},
   "outputs": [],
   "source": []
  }
 ],
 "metadata": {
  "kernelspec": {
   "display_name": "R",
   "language": "R",
   "name": "ir"
  },
  "language_info": {
   "codemirror_mode": "r",
   "file_extension": ".r",
   "mimetype": "text/x-r-source",
   "name": "R",
   "pygments_lexer": "r",
   "version": "4.1.0"
  }
 },
 "nbformat": 4,
 "nbformat_minor": 5
}
