{
 "cells": [
  {
   "cell_type": "markdown",
   "id": "ab600460",
   "metadata": {},
   "source": [
    "# Assessment I: Diagnostic Test\n",
    "***\n",
    "\n",
    "## Outliers \n",
    "\n",
    "Outliers dapat membuat model menjadi bias. <br>\n",
    "Bagaimana mendeteksi keberadaan outliers?\n",
    "* Normal (Unstandardized Residuals)\n",
    "* Standardized Residuals - residual dibagi dengan estimasi standar deviasi\n",
    "\n",
    "### Notes :\n",
    "Selain itu, kita juga bisa melihat $p-value$.\n",
    "1. Standardized residuals dengan nilai absolut > 3.29, itu perlu menjadi concern, karena biasanya sampel yang seperti itu jarang terjadi secara kebetulan\n",
    "2. Jika lebih dari 1% dari sampel memiliki nilai residu standar > 2.58, level error dari model tidak dapat diterima (model tidak fit dengan sample data).\n",
    "3. Jika lebih dari 5% dari sampel memiliki nilai residu yang nilai absolutnya >1.96 artinya model tersebut buruk untuk merepresentasikan data "
   ]
  },
  {
   "cell_type": "markdown",
   "id": "0182fb89",
   "metadata": {},
   "source": [
    "* Adjusted Predicted Value dari suatu kasus- apabila kasus itu tidak diikutkan ke daam analisis, kemudian model akan menghitung nilai prediksi tanpa kasus itu \n",
    "* Studentized Residual - residual dibagi dengan standar error\n",
    "* Cook's Distance - Pengaruh total suatu model terhadap model\n",
    "* Hat values (leverage) - Pengaruh nilai yang diobservasi terhadap nilai prediksi"
   ]
  },
  {
   "cell_type": "code",
   "execution_count": 13,
   "id": "31420bdc",
   "metadata": {},
   "outputs": [
    {
     "data": {
      "text/html": [
       "'D:/OneDrive - Universitas Terbuka/00 LABORATORIUM/Github/statistik/bab7'"
      ],
      "text/latex": [
       "'D:/OneDrive - Universitas Terbuka/00 LABORATORIUM/Github/statistik/bab7'"
      ],
      "text/markdown": [
       "'D:/OneDrive - Universitas Terbuka/00 LABORATORIUM/Github/statistik/bab7'"
      ],
      "text/plain": [
       "[1] \"D:/OneDrive - Universitas Terbuka/00 LABORATORIUM/Github/statistik/bab7\""
      ]
     },
     "metadata": {},
     "output_type": "display_data"
    },
    {
     "data": {
      "text/html": [
       "<table class=\"dataframe\">\n",
       "<caption>A data.frame: 30 × 3</caption>\n",
       "<thead>\n",
       "\t<tr><th scope=col>case</th><th scope=col>x</th><th scope=col>y</th></tr>\n",
       "\t<tr><th scope=col>&lt;int&gt;</th><th scope=col>&lt;dbl&gt;</th><th scope=col>&lt;dbl&gt;</th></tr>\n",
       "</thead>\n",
       "<tbody>\n",
       "\t<tr><td> 1</td><td>30</td><td> 1</td></tr>\n",
       "\t<tr><td> 2</td><td>29</td><td> 2</td></tr>\n",
       "\t<tr><td> 3</td><td>28</td><td> 3</td></tr>\n",
       "\t<tr><td> 4</td><td>27</td><td> 4</td></tr>\n",
       "\t<tr><td> 5</td><td>26</td><td> 5</td></tr>\n",
       "\t<tr><td> 6</td><td>25</td><td> 6</td></tr>\n",
       "\t<tr><td> 7</td><td>24</td><td> 7</td></tr>\n",
       "\t<tr><td> 8</td><td>23</td><td> 8</td></tr>\n",
       "\t<tr><td> 9</td><td>22</td><td> 9</td></tr>\n",
       "\t<tr><td>10</td><td>21</td><td>10</td></tr>\n",
       "\t<tr><td>11</td><td>20</td><td>11</td></tr>\n",
       "\t<tr><td>12</td><td>19</td><td>12</td></tr>\n",
       "\t<tr><td>13</td><td>18</td><td>13</td></tr>\n",
       "\t<tr><td>14</td><td>17</td><td>14</td></tr>\n",
       "\t<tr><td>15</td><td>16</td><td>15</td></tr>\n",
       "\t<tr><td>16</td><td>15</td><td>16</td></tr>\n",
       "\t<tr><td>17</td><td>14</td><td>17</td></tr>\n",
       "\t<tr><td>18</td><td>13</td><td>18</td></tr>\n",
       "\t<tr><td>19</td><td>12</td><td>19</td></tr>\n",
       "\t<tr><td>20</td><td>11</td><td>20</td></tr>\n",
       "\t<tr><td>21</td><td>10</td><td>21</td></tr>\n",
       "\t<tr><td>22</td><td> 9</td><td>22</td></tr>\n",
       "\t<tr><td>23</td><td> 8</td><td>23</td></tr>\n",
       "\t<tr><td>24</td><td> 7</td><td>24</td></tr>\n",
       "\t<tr><td>25</td><td> 6</td><td>25</td></tr>\n",
       "\t<tr><td>26</td><td> 5</td><td>26</td></tr>\n",
       "\t<tr><td>27</td><td> 4</td><td>27</td></tr>\n",
       "\t<tr><td>28</td><td> 3</td><td>28</td></tr>\n",
       "\t<tr><td>29</td><td> 2</td><td>29</td></tr>\n",
       "\t<tr><td>30</td><td> 1</td><td>15</td></tr>\n",
       "</tbody>\n",
       "</table>\n"
      ],
      "text/latex": [
       "A data.frame: 30 × 3\n",
       "\\begin{tabular}{lll}\n",
       " case & x & y\\\\\n",
       " <int> & <dbl> & <dbl>\\\\\n",
       "\\hline\n",
       "\t  1 & 30 &  1\\\\\n",
       "\t  2 & 29 &  2\\\\\n",
       "\t  3 & 28 &  3\\\\\n",
       "\t  4 & 27 &  4\\\\\n",
       "\t  5 & 26 &  5\\\\\n",
       "\t  6 & 25 &  6\\\\\n",
       "\t  7 & 24 &  7\\\\\n",
       "\t  8 & 23 &  8\\\\\n",
       "\t  9 & 22 &  9\\\\\n",
       "\t 10 & 21 & 10\\\\\n",
       "\t 11 & 20 & 11\\\\\n",
       "\t 12 & 19 & 12\\\\\n",
       "\t 13 & 18 & 13\\\\\n",
       "\t 14 & 17 & 14\\\\\n",
       "\t 15 & 16 & 15\\\\\n",
       "\t 16 & 15 & 16\\\\\n",
       "\t 17 & 14 & 17\\\\\n",
       "\t 18 & 13 & 18\\\\\n",
       "\t 19 & 12 & 19\\\\\n",
       "\t 20 & 11 & 20\\\\\n",
       "\t 21 & 10 & 21\\\\\n",
       "\t 22 &  9 & 22\\\\\n",
       "\t 23 &  8 & 23\\\\\n",
       "\t 24 &  7 & 24\\\\\n",
       "\t 25 &  6 & 25\\\\\n",
       "\t 26 &  5 & 26\\\\\n",
       "\t 27 &  4 & 27\\\\\n",
       "\t 28 &  3 & 28\\\\\n",
       "\t 29 &  2 & 29\\\\\n",
       "\t 30 &  1 & 15\\\\\n",
       "\\end{tabular}\n"
      ],
      "text/markdown": [
       "\n",
       "A data.frame: 30 × 3\n",
       "\n",
       "| case &lt;int&gt; | x &lt;dbl&gt; | y &lt;dbl&gt; |\n",
       "|---|---|---|\n",
       "|  1 | 30 |  1 |\n",
       "|  2 | 29 |  2 |\n",
       "|  3 | 28 |  3 |\n",
       "|  4 | 27 |  4 |\n",
       "|  5 | 26 |  5 |\n",
       "|  6 | 25 |  6 |\n",
       "|  7 | 24 |  7 |\n",
       "|  8 | 23 |  8 |\n",
       "|  9 | 22 |  9 |\n",
       "| 10 | 21 | 10 |\n",
       "| 11 | 20 | 11 |\n",
       "| 12 | 19 | 12 |\n",
       "| 13 | 18 | 13 |\n",
       "| 14 | 17 | 14 |\n",
       "| 15 | 16 | 15 |\n",
       "| 16 | 15 | 16 |\n",
       "| 17 | 14 | 17 |\n",
       "| 18 | 13 | 18 |\n",
       "| 19 | 12 | 19 |\n",
       "| 20 | 11 | 20 |\n",
       "| 21 | 10 | 21 |\n",
       "| 22 |  9 | 22 |\n",
       "| 23 |  8 | 23 |\n",
       "| 24 |  7 | 24 |\n",
       "| 25 |  6 | 25 |\n",
       "| 26 |  5 | 26 |\n",
       "| 27 |  4 | 27 |\n",
       "| 28 |  3 | 28 |\n",
       "| 29 |  2 | 29 |\n",
       "| 30 |  1 | 15 |\n",
       "\n"
      ],
      "text/plain": [
       "   case x  y \n",
       "1   1   30  1\n",
       "2   2   29  2\n",
       "3   3   28  3\n",
       "4   4   27  4\n",
       "5   5   26  5\n",
       "6   6   25  6\n",
       "7   7   24  7\n",
       "8   8   23  8\n",
       "9   9   22  9\n",
       "10 10   21 10\n",
       "11 11   20 11\n",
       "12 12   19 12\n",
       "13 13   18 13\n",
       "14 14   17 14\n",
       "15 15   16 15\n",
       "16 16   15 16\n",
       "17 17   14 17\n",
       "18 18   13 18\n",
       "19 19   12 19\n",
       "20 20   11 20\n",
       "21 21   10 21\n",
       "22 22    9 22\n",
       "23 23    8 23\n",
       "24 24    7 24\n",
       "25 25    6 25\n",
       "26 26    5 26\n",
       "27 27    4 27\n",
       "28 28    3 28\n",
       "29 29    2 29\n",
       "30 30    1 15"
      ]
     },
     "metadata": {},
     "output_type": "display_data"
    }
   ],
   "source": [
    "setwd(\"D:/OneDrive - Universitas Terbuka/00 LABORATORIUM/Github/statistik/bab7\")\n",
    "getwd()\n",
    "data.dfb<-read.delim(\"dfbeta.dat\", header=TRUE, sep=\";\")\n",
    "data.dfb"
   ]
  },
  {
   "cell_type": "code",
   "execution_count": 10,
   "id": "e4e47619",
   "metadata": {},
   "outputs": [
    {
     "data": {
      "text/plain": [
       "\n",
       "Call:\n",
       "lm(formula = y ~ x, data = data.dfb)\n",
       "\n",
       "Residuals:\n",
       "     Min       1Q   Median       3Q      Max \n",
       "-13.0968  -0.2984   0.4032   1.1048   1.8065 \n",
       "\n",
       "Coefficients:\n",
       "            Estimate Std. Error t value Pr(>|t|)    \n",
       "(Intercept) 29.00000    0.99190   29.24  < 2e-16 ***\n",
       "x           -0.90323    0.05587  -16.17  9.9e-16 ***\n",
       "---\n",
       "Signif. codes:  0 '***' 0.001 '**' 0.01 '*' 0.05 '.' 0.1 ' ' 1\n",
       "\n",
       "Residual standard error: 2.649 on 28 degrees of freedom\n",
       "Multiple R-squared:  0.9032,\tAdjusted R-squared:  0.8998 \n",
       "F-statistic: 261.3 on 1 and 28 DF,  p-value: 9.901e-16\n"
      ]
     },
     "metadata": {},
     "output_type": "display_data"
    }
   ],
   "source": [
    "reg<-lm(y~x, data=data.dfb)\n",
    "summary(reg)"
   ]
  },
  {
   "cell_type": "code",
   "execution_count": 17,
   "id": "2f97d566",
   "metadata": {},
   "outputs": [
    {
     "data": {
      "text/html": [
       "2"
      ],
      "text/latex": [
       "2"
      ],
      "text/markdown": [
       "2"
      ],
      "text/plain": [
       "[1] 2"
      ]
     },
     "metadata": {},
     "output_type": "display_data"
    }
   ],
   "source": [
    "data.dfb$case[2]"
   ]
  },
  {
   "cell_type": "code",
   "execution_count": 21,
   "id": "087715ab",
   "metadata": {},
   "outputs": [],
   "source": [
    "data.dfb2<-data.dfb[data.dfb$case != 30,]"
   ]
  },
  {
   "cell_type": "code",
   "execution_count": 23,
   "id": "0366c87d",
   "metadata": {},
   "outputs": [
    {
     "name": "stderr",
     "output_type": "stream",
     "text": [
      "Warning message in summary.lm(reg2):\n",
      "\"essentially perfect fit: summary may be unreliable\"\n"
     ]
    },
    {
     "data": {
      "text/plain": [
       "\n",
       "Call:\n",
       "lm(formula = y ~ x, data = data.dfb2)\n",
       "\n",
       "Residuals:\n",
       "       Min         1Q     Median         3Q        Max \n",
       "-1.300e-14 -2.005e-16  6.690e-17  3.336e-16  1.201e-14 \n",
       "\n",
       "Coefficients:\n",
       "              Estimate Std. Error    t value Pr(>|t|)    \n",
       "(Intercept)  3.100e+01  1.386e-15  2.236e+16   <2e-16 ***\n",
       "x           -1.000e+00  7.678e-17 -1.302e+16   <2e-16 ***\n",
       "---\n",
       "Signif. codes:  0 '***' 0.001 '**' 0.01 '*' 0.05 '.' 0.1 ' ' 1\n",
       "\n",
       "Residual standard error: 3.46e-15 on 27 degrees of freedom\n",
       "Multiple R-squared:      1,\tAdjusted R-squared:      1 \n",
       "F-statistic: 1.696e+32 on 1 and 27 DF,  p-value: < 2.2e-16\n"
      ]
     },
     "metadata": {},
     "output_type": "display_data"
    }
   ],
   "source": [
    "reg2<-lm(y~x, data=data.dfb2)\n",
    "summary(reg2)"
   ]
  },
  {
   "cell_type": "code",
   "execution_count": 26,
   "id": "3219c456",
   "metadata": {},
   "outputs": [
    {
     "name": "stderr",
     "output_type": "stream",
     "text": [
      "Warning message in summary.lm(object, ...):\n",
      "\"essentially perfect fit: summary may be unreliable\"\n",
      "Warning message in summary.lm(fit):\n",
      "\"essentially perfect fit: summary may be unreliable\"\n",
      "Warning message in summary.lm(fit):\n",
      "\"essentially perfect fit: summary may be unreliable\"\n"
     ]
    },
    {
     "data": {
      "text/html": [
       "<table class=\"dataframe\">\n",
       "<caption>A data.frame: 8 × 4</caption>\n",
       "<thead>\n",
       "\t<tr><th></th><th scope=col>.variable</th><th scope=col>.stat</th><th scope=col>Model 1</th><th scope=col>Model 2</th></tr>\n",
       "\t<tr><th></th><th scope=col>&lt;chr&gt;</th><th scope=col>&lt;chr&gt;</th><th scope=col>&lt;chr&gt;</th><th scope=col>&lt;chr&gt;</th></tr>\n",
       "</thead>\n",
       "<tbody>\n",
       "\t<tr><th scope=row>1</th><td>(Intercept)</td><td>Estimate</td><td>29.000***</td><td>31.000***</td></tr>\n",
       "\t<tr><th scope=row>2</th><td>           </td><td>Std Err </td><td>[0.992]  </td><td>[0.000]  </td></tr>\n",
       "\t<tr><th scope=row>5</th><td>x          </td><td>Estimate</td><td>-0.903***</td><td>-1.000***</td></tr>\n",
       "\t<tr><th scope=row>6</th><td>           </td><td>Std Err </td><td>[0.056]  </td><td>[0.000]  </td></tr>\n",
       "\t<tr><th scope=row>9</th><td>           </td><td>N       </td><td>30       </td><td>29       </td></tr>\n",
       "\t<tr><th scope=row>10</th><td>           </td><td>R2      </td><td>0.903    </td><td>1.000    </td></tr>\n",
       "\t<tr><th scope=row>11</th><td>           </td><td>adj R2  </td><td>0.900    </td><td>1.000    </td></tr>\n",
       "\t<tr><th scope=row>12</th><td>           </td><td>AIC     </td><td>147.513  </td><td>-1845.037</td></tr>\n",
       "</tbody>\n",
       "</table>\n"
      ],
      "text/latex": [
       "A data.frame: 8 × 4\n",
       "\\begin{tabular}{r|llll}\n",
       "  & .variable & .stat & Model 1 & Model 2\\\\\n",
       "  & <chr> & <chr> & <chr> & <chr>\\\\\n",
       "\\hline\n",
       "\t1 & (Intercept) & Estimate & 29.000*** & 31.000***\\\\\n",
       "\t2 &             & Std Err  & {[}0.992{]}   & {[}0.000{]}  \\\\\n",
       "\t5 & x           & Estimate & -0.903*** & -1.000***\\\\\n",
       "\t6 &             & Std Err  & {[}0.056{]}   & {[}0.000{]}  \\\\\n",
       "\t9 &             & N        & 30        & 29       \\\\\n",
       "\t10 &             & R2       & 0.903     & 1.000    \\\\\n",
       "\t11 &             & adj R2   & 0.900     & 1.000    \\\\\n",
       "\t12 &             & AIC      & 147.513   & -1845.037\\\\\n",
       "\\end{tabular}\n"
      ],
      "text/markdown": [
       "\n",
       "A data.frame: 8 × 4\n",
       "\n",
       "| <!--/--> | .variable &lt;chr&gt; | .stat &lt;chr&gt; | Model 1 &lt;chr&gt; | Model 2 &lt;chr&gt; |\n",
       "|---|---|---|---|---|\n",
       "| 1 | (Intercept) | Estimate | 29.000*** | 31.000*** |\n",
       "| 2 | <!----> | Std Err  | [0.992]   | [0.000]   |\n",
       "| 5 | x           | Estimate | -0.903*** | -1.000*** |\n",
       "| 6 | <!----> | Std Err  | [0.056]   | [0.000]   |\n",
       "| 9 | <!----> | N        | 30        | 29        |\n",
       "| 10 | <!----> | R2       | 0.903     | 1.000     |\n",
       "| 11 | <!----> | adj R2   | 0.900     | 1.000     |\n",
       "| 12 | <!----> | AIC      | 147.513   | -1845.037 |\n",
       "\n"
      ],
      "text/plain": [
       "   .variable   .stat    Model 1   Model 2  \n",
       "1  (Intercept) Estimate 29.000*** 31.000***\n",
       "2              Std Err  [0.992]   [0.000]  \n",
       "5  x           Estimate -0.903*** -1.000***\n",
       "6              Std Err  [0.056]   [0.000]  \n",
       "9              N        30        29       \n",
       "10             R2       0.903     1.000    \n",
       "11             adj R2   0.900     1.000    \n",
       "12             AIC      147.513   -1845.037"
      ]
     },
     "metadata": {},
     "output_type": "display_data"
    }
   ],
   "source": [
    "library(outreg)\n",
    "resume <- list(reg,reg2)\n",
    "outreg(resume)"
   ]
  }
 ],
 "metadata": {
  "kernelspec": {
   "display_name": "R",
   "language": "R",
   "name": "ir"
  },
  "language_info": {
   "codemirror_mode": "r",
   "file_extension": ".r",
   "mimetype": "text/x-r-source",
   "name": "R",
   "pygments_lexer": "r",
   "version": "4.1.0"
  }
 },
 "nbformat": 4,
 "nbformat_minor": 5
}
