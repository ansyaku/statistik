{
 "cells": [
  {
   "cell_type": "code",
   "execution_count": 1,
   "id": "f1e00f6f",
   "metadata": {},
   "outputs": [],
   "source": [
    "data.lwdf<-read.delim(\"Lecturer data.dat\", header=TRUE)"
   ]
  },
  {
   "cell_type": "code",
   "execution_count": 2,
   "id": "64ebbf2b",
   "metadata": {},
   "outputs": [
    {
     "name": "stdout",
     "output_type": "stream",
     "text": [
      "'data.frame':\t10 obs. of  7 variables:\n",
      " $ name      : chr  \"Ben\" \"Martin\" \"Andy\" \"Paul\" ...\n",
      " $ birth_date: chr  \"7/3/1977\" \"5/24/1969\" \"6/21/1973\" \"7/16/1970\" ...\n",
      " $ job       : int  1 1 1 1 1 2 2 2 2 2\n",
      " $ friends   : int  5 2 0 4 1 10 12 15 12 17\n",
      " $ alcohol   : int  10 15 20 5 30 25 20 16 17 18\n",
      " $ income    : int  20000 40000 35000 22000 50000 5000 100 3000 10000 10\n",
      " $ neurotic  : int  10 17 14 13 21 7 13 9 14 13\n"
     ]
    }
   ],
   "source": [
    "str(data.lwdf)"
   ]
  },
  {
   "cell_type": "code",
   "execution_count": 5,
   "id": "ba858ee1",
   "metadata": {},
   "outputs": [],
   "source": [
    "lecturePersonality<-data.lwdf[,c(\"friends\",\"alcohol\",\"neurotic\")]"
   ]
  },
  {
   "cell_type": "code",
   "execution_count": 6,
   "id": "26710206",
   "metadata": {},
   "outputs": [
    {
     "data": {
      "text/html": [
       "<table class=\"dataframe\">\n",
       "<caption>A data.frame: 10 × 3</caption>\n",
       "<thead>\n",
       "\t<tr><th scope=col>friends</th><th scope=col>alcohol</th><th scope=col>neurotic</th></tr>\n",
       "\t<tr><th scope=col>&lt;int&gt;</th><th scope=col>&lt;int&gt;</th><th scope=col>&lt;int&gt;</th></tr>\n",
       "</thead>\n",
       "<tbody>\n",
       "\t<tr><td> 5</td><td>10</td><td>10</td></tr>\n",
       "\t<tr><td> 2</td><td>15</td><td>17</td></tr>\n",
       "\t<tr><td> 0</td><td>20</td><td>14</td></tr>\n",
       "\t<tr><td> 4</td><td> 5</td><td>13</td></tr>\n",
       "\t<tr><td> 1</td><td>30</td><td>21</td></tr>\n",
       "\t<tr><td>10</td><td>25</td><td> 7</td></tr>\n",
       "\t<tr><td>12</td><td>20</td><td>13</td></tr>\n",
       "\t<tr><td>15</td><td>16</td><td> 9</td></tr>\n",
       "\t<tr><td>12</td><td>17</td><td>14</td></tr>\n",
       "\t<tr><td>17</td><td>18</td><td>13</td></tr>\n",
       "</tbody>\n",
       "</table>\n"
      ],
      "text/latex": [
       "A data.frame: 10 × 3\n",
       "\\begin{tabular}{lll}\n",
       " friends & alcohol & neurotic\\\\\n",
       " <int> & <int> & <int>\\\\\n",
       "\\hline\n",
       "\t  5 & 10 & 10\\\\\n",
       "\t  2 & 15 & 17\\\\\n",
       "\t  0 & 20 & 14\\\\\n",
       "\t  4 &  5 & 13\\\\\n",
       "\t  1 & 30 & 21\\\\\n",
       "\t 10 & 25 &  7\\\\\n",
       "\t 12 & 20 & 13\\\\\n",
       "\t 15 & 16 &  9\\\\\n",
       "\t 12 & 17 & 14\\\\\n",
       "\t 17 & 18 & 13\\\\\n",
       "\\end{tabular}\n"
      ],
      "text/markdown": [
       "\n",
       "A data.frame: 10 × 3\n",
       "\n",
       "| friends &lt;int&gt; | alcohol &lt;int&gt; | neurotic &lt;int&gt; |\n",
       "|---|---|---|\n",
       "|  5 | 10 | 10 |\n",
       "|  2 | 15 | 17 |\n",
       "|  0 | 20 | 14 |\n",
       "|  4 |  5 | 13 |\n",
       "|  1 | 30 | 21 |\n",
       "| 10 | 25 |  7 |\n",
       "| 12 | 20 | 13 |\n",
       "| 15 | 16 |  9 |\n",
       "| 12 | 17 | 14 |\n",
       "| 17 | 18 | 13 |\n",
       "\n"
      ],
      "text/plain": [
       "   friends alcohol neurotic\n",
       "1   5      10      10      \n",
       "2   2      15      17      \n",
       "3   0      20      14      \n",
       "4   4       5      13      \n",
       "5   1      30      21      \n",
       "6  10      25       7      \n",
       "7  12      20      13      \n",
       "8  15      16       9      \n",
       "9  12      17      14      \n",
       "10 17      18      13      "
      ]
     },
     "metadata": {},
     "output_type": "display_data"
    }
   ],
   "source": [
    "lecturePersonality"
   ]
  },
  {
   "cell_type": "code",
   "execution_count": 17,
   "id": "59a5e82e",
   "metadata": {},
   "outputs": [
    {
     "ename": "ERROR",
     "evalue": "Error in `[.data.frame`(data.lwdf, job == \"Lecturer\", ): object 'job' not found\n",
     "output_type": "error",
     "traceback": [
      "Error in `[.data.frame`(data.lwdf, job == \"Lecturer\", ): object 'job' not found\nTraceback:\n",
      "1. data.lwdf[job == \"Lecturer\", ]",
      "2. `[.data.frame`(data.lwdf, job == \"Lecturer\", )"
     ]
    }
   ],
   "source": [
    "hanyaDosen<-data.lwdf[job==\"Lecturer\",]"
   ]
  },
  {
   "cell_type": "code",
   "execution_count": 13,
   "id": "506b27fd",
   "metadata": {},
   "outputs": [
    {
     "data": {
      "text/html": [
       "<style>\n",
       ".list-inline {list-style: none; margin:0; padding: 0}\n",
       ".list-inline>li {display: inline-block}\n",
       ".list-inline>li:not(:last-child)::after {content: \"\\00b7\"; padding: 0 .5ex}\n",
       "</style>\n",
       "<ol class=list-inline><li>1</li><li>1</li><li>1</li><li>1</li><li>1</li><li>2</li><li>2</li><li>2</li><li>2</li><li>2</li></ol>\n"
      ],
      "text/latex": [
       "\\begin{enumerate*}\n",
       "\\item 1\n",
       "\\item 1\n",
       "\\item 1\n",
       "\\item 1\n",
       "\\item 1\n",
       "\\item 2\n",
       "\\item 2\n",
       "\\item 2\n",
       "\\item 2\n",
       "\\item 2\n",
       "\\end{enumerate*}\n"
      ],
      "text/markdown": [
       "1. 1\n",
       "2. 1\n",
       "3. 1\n",
       "4. 1\n",
       "5. 1\n",
       "6. 2\n",
       "7. 2\n",
       "8. 2\n",
       "9. 2\n",
       "10. 2\n",
       "\n",
       "\n"
      ],
      "text/plain": [
       " [1] 1 1 1 1 1 2 2 2 2 2"
      ]
     },
     "metadata": {},
     "output_type": "display_data"
    }
   ],
   "source": [
    "data.lwdf$job"
   ]
  },
  {
   "cell_type": "code",
   "execution_count": null,
   "id": "98d0f570",
   "metadata": {},
   "outputs": [],
   "source": []
  }
 ],
 "metadata": {
  "kernelspec": {
   "display_name": "R",
   "language": "R",
   "name": "ir"
  },
  "language_info": {
   "codemirror_mode": "r",
   "file_extension": ".r",
   "mimetype": "text/x-r-source",
   "name": "R",
   "pygments_lexer": "r",
   "version": "4.1.0"
  }
 },
 "nbformat": 4,
 "nbformat_minor": 5
}
