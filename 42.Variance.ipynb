{
 "cells": [
  {
   "cell_type": "markdown",
   "id": "c2ea30f9",
   "metadata": {},
   "source": [
    "# Homogenitas Varians\n",
    "***\n",
    "\n",
    "* Dilakukan dengan uji levene.\n",
    "* Data harus kontinu."
   ]
  },
  {
   "cell_type": "code",
   "execution_count": 1,
   "id": "523a5fed",
   "metadata": {},
   "outputs": [
    {
     "data": {
      "text/html": [
       "<table class=\"dataframe\">\n",
       "<caption>A data.frame: 6 × 5</caption>\n",
       "<thead>\n",
       "\t<tr><th></th><th scope=col>exam</th><th scope=col>computer</th><th scope=col>lectures</th><th scope=col>numeracy</th><th scope=col>uni</th></tr>\n",
       "\t<tr><th></th><th scope=col>&lt;int&gt;</th><th scope=col>&lt;int&gt;</th><th scope=col>&lt;dbl&gt;</th><th scope=col>&lt;int&gt;</th><th scope=col>&lt;int&gt;</th></tr>\n",
       "</thead>\n",
       "<tbody>\n",
       "\t<tr><th scope=row>1</th><td>18</td><td>54</td><td>75.0</td><td>7</td><td>0</td></tr>\n",
       "\t<tr><th scope=row>2</th><td>30</td><td>47</td><td> 8.5</td><td>1</td><td>0</td></tr>\n",
       "\t<tr><th scope=row>3</th><td>40</td><td>58</td><td>69.5</td><td>6</td><td>0</td></tr>\n",
       "\t<tr><th scope=row>4</th><td>30</td><td>37</td><td>67.0</td><td>6</td><td>0</td></tr>\n",
       "\t<tr><th scope=row>5</th><td>40</td><td>53</td><td>44.5</td><td>2</td><td>0</td></tr>\n",
       "\t<tr><th scope=row>6</th><td>15</td><td>48</td><td>76.5</td><td>8</td><td>0</td></tr>\n",
       "</tbody>\n",
       "</table>\n"
      ],
      "text/latex": [
       "A data.frame: 6 × 5\n",
       "\\begin{tabular}{r|lllll}\n",
       "  & exam & computer & lectures & numeracy & uni\\\\\n",
       "  & <int> & <int> & <dbl> & <int> & <int>\\\\\n",
       "\\hline\n",
       "\t1 & 18 & 54 & 75.0 & 7 & 0\\\\\n",
       "\t2 & 30 & 47 &  8.5 & 1 & 0\\\\\n",
       "\t3 & 40 & 58 & 69.5 & 6 & 0\\\\\n",
       "\t4 & 30 & 37 & 67.0 & 6 & 0\\\\\n",
       "\t5 & 40 & 53 & 44.5 & 2 & 0\\\\\n",
       "\t6 & 15 & 48 & 76.5 & 8 & 0\\\\\n",
       "\\end{tabular}\n"
      ],
      "text/markdown": [
       "\n",
       "A data.frame: 6 × 5\n",
       "\n",
       "| <!--/--> | exam &lt;int&gt; | computer &lt;int&gt; | lectures &lt;dbl&gt; | numeracy &lt;int&gt; | uni &lt;int&gt; |\n",
       "|---|---|---|---|---|---|\n",
       "| 1 | 18 | 54 | 75.0 | 7 | 0 |\n",
       "| 2 | 30 | 47 |  8.5 | 1 | 0 |\n",
       "| 3 | 40 | 58 | 69.5 | 6 | 0 |\n",
       "| 4 | 30 | 37 | 67.0 | 6 | 0 |\n",
       "| 5 | 40 | 53 | 44.5 | 2 | 0 |\n",
       "| 6 | 15 | 48 | 76.5 | 8 | 0 |\n",
       "\n"
      ],
      "text/plain": [
       "  exam computer lectures numeracy uni\n",
       "1 18   54       75.0     7        0  \n",
       "2 30   47        8.5     1        0  \n",
       "3 40   58       69.5     6        0  \n",
       "4 30   37       67.0     6        0  \n",
       "5 40   53       44.5     2        0  \n",
       "6 15   48       76.5     8        0  "
      ]
     },
     "metadata": {},
     "output_type": "display_data"
    }
   ],
   "source": [
    "data.var<-read.delim(\"RExam.dat\", header=TRUE)\n",
    "head(data.var, size=5)"
   ]
  },
  {
   "cell_type": "code",
   "execution_count": 5,
   "id": "4a849301",
   "metadata": {},
   "outputs": [
    {
     "name": "stderr",
     "output_type": "stream",
     "text": [
      "Warning message in leveneTest.default(data.var$exam, data.var$uni):\n",
      "\"data.var$uni coerced to factor.\"\n"
     ]
    },
    {
     "data": {
      "text/html": [
       "<table class=\"dataframe\">\n",
       "<caption>A anova: 2 × 3</caption>\n",
       "<thead>\n",
       "\t<tr><th></th><th scope=col>Df</th><th scope=col>F value</th><th scope=col>Pr(&gt;F)</th></tr>\n",
       "\t<tr><th></th><th scope=col>&lt;int&gt;</th><th scope=col>&lt;dbl&gt;</th><th scope=col>&lt;dbl&gt;</th></tr>\n",
       "</thead>\n",
       "<tbody>\n",
       "\t<tr><th scope=row>group</th><td> 1</td><td>2.088557</td><td>0.1515963</td></tr>\n",
       "\t<tr><th scope=row> </th><td>98</td><td>      NA</td><td>       NA</td></tr>\n",
       "</tbody>\n",
       "</table>\n"
      ],
      "text/latex": [
       "A anova: 2 × 3\n",
       "\\begin{tabular}{r|lll}\n",
       "  & Df & F value & Pr(>F)\\\\\n",
       "  & <int> & <dbl> & <dbl>\\\\\n",
       "\\hline\n",
       "\tgroup &  1 & 2.088557 & 0.1515963\\\\\n",
       "\t  & 98 &       NA &        NA\\\\\n",
       "\\end{tabular}\n"
      ],
      "text/markdown": [
       "\n",
       "A anova: 2 × 3\n",
       "\n",
       "| <!--/--> | Df &lt;int&gt; | F value &lt;dbl&gt; | Pr(&gt;F) &lt;dbl&gt; |\n",
       "|---|---|---|---|\n",
       "| group |  1 | 2.088557 | 0.1515963 |\n",
       "| <!----> | 98 |       NA |        NA |\n",
       "\n"
      ],
      "text/plain": [
       "      Df F value  Pr(>F)   \n",
       "group  1 2.088557 0.1515963\n",
       "      98       NA        NA"
      ]
     },
     "metadata": {},
     "output_type": "display_data"
    }
   ],
   "source": [
    "#car package --  An R Companion to Applied Regression, ... Browse package \n",
    "library(car)\n",
    "leveneTest(data.var$exam, data.var$uni)"
   ]
  },
  {
   "cell_type": "code",
   "execution_count": 6,
   "id": "1e4f79df",
   "metadata": {},
   "outputs": [
    {
     "name": "stderr",
     "output_type": "stream",
     "text": [
      "Warning message in leveneTest.default(data.var$exam, data.var$uni, center = mean):\n",
      "\"data.var$uni coerced to factor.\"\n"
     ]
    },
    {
     "data": {
      "text/html": [
       "<table class=\"dataframe\">\n",
       "<caption>A anova: 2 × 3</caption>\n",
       "<thead>\n",
       "\t<tr><th></th><th scope=col>Df</th><th scope=col>F value</th><th scope=col>Pr(&gt;F)</th></tr>\n",
       "\t<tr><th></th><th scope=col>&lt;int&gt;</th><th scope=col>&lt;dbl&gt;</th><th scope=col>&lt;dbl&gt;</th></tr>\n",
       "</thead>\n",
       "<tbody>\n",
       "\t<tr><th scope=row>group</th><td> 1</td><td>2.58411</td><td>0.1111583</td></tr>\n",
       "\t<tr><th scope=row> </th><td>98</td><td>     NA</td><td>       NA</td></tr>\n",
       "</tbody>\n",
       "</table>\n"
      ],
      "text/latex": [
       "A anova: 2 × 3\n",
       "\\begin{tabular}{r|lll}\n",
       "  & Df & F value & Pr(>F)\\\\\n",
       "  & <int> & <dbl> & <dbl>\\\\\n",
       "\\hline\n",
       "\tgroup &  1 & 2.58411 & 0.1111583\\\\\n",
       "\t  & 98 &      NA &        NA\\\\\n",
       "\\end{tabular}\n"
      ],
      "text/markdown": [
       "\n",
       "A anova: 2 × 3\n",
       "\n",
       "| <!--/--> | Df &lt;int&gt; | F value &lt;dbl&gt; | Pr(&gt;F) &lt;dbl&gt; |\n",
       "|---|---|---|---|\n",
       "| group |  1 | 2.58411 | 0.1111583 |\n",
       "| <!----> | 98 |      NA |        NA |\n",
       "\n"
      ],
      "text/plain": [
       "      Df F value Pr(>F)   \n",
       "group  1 2.58411 0.1111583\n",
       "      98      NA        NA"
      ]
     },
     "metadata": {},
     "output_type": "display_data"
    }
   ],
   "source": [
    "leveneTest(data.var$exam, data.var$uni, center=mean)"
   ]
  },
  {
   "cell_type": "markdown",
   "id": "67261a22",
   "metadata": {},
   "source": [
    "# Melaporkan Varians\n",
    "*** \n",
    "Varians"
   ]
  },
  {
   "cell_type": "code",
   "execution_count": null,
   "id": "09810b92",
   "metadata": {},
   "outputs": [],
   "source": []
  },
  {
   "cell_type": "markdown",
   "id": "a1226449",
   "metadata": {},
   "source": [
    "# Koefisien Kovariansi\n",
    "***"
   ]
  }
 ],
 "metadata": {
  "kernelspec": {
   "display_name": "R",
   "language": "R",
   "name": "ir"
  },
  "language_info": {
   "codemirror_mode": "r",
   "file_extension": ".r",
   "mimetype": "text/x-r-source",
   "name": "R",
   "pygments_lexer": "r",
   "version": "4.1.0"
  }
 },
 "nbformat": 4,
 "nbformat_minor": 5
}
