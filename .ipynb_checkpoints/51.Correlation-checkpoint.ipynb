{
 "cells": [
  {
   "cell_type": "code",
   "execution_count": 1,
   "id": "b9711bf1",
   "metadata": {},
   "outputs": [],
   "source": [
    "adverts<-c(5,4,4,6,8)\n",
    "packets<-c(8,9,10,13,15)\n",
    "advertData<-data.frame(adverts,packets)"
   ]
  },
  {
   "cell_type": "code",
   "execution_count": 2,
   "id": "1c0db006",
   "metadata": {},
   "outputs": [
    {
     "data": {
      "text/html": [
       "<table class=\"dataframe\">\n",
       "<caption>A data.frame: 5 × 2</caption>\n",
       "<thead>\n",
       "\t<tr><th scope=col>adverts</th><th scope=col>packets</th></tr>\n",
       "\t<tr><th scope=col>&lt;dbl&gt;</th><th scope=col>&lt;dbl&gt;</th></tr>\n",
       "</thead>\n",
       "<tbody>\n",
       "\t<tr><td>5</td><td> 8</td></tr>\n",
       "\t<tr><td>4</td><td> 9</td></tr>\n",
       "\t<tr><td>4</td><td>10</td></tr>\n",
       "\t<tr><td>6</td><td>13</td></tr>\n",
       "\t<tr><td>8</td><td>15</td></tr>\n",
       "</tbody>\n",
       "</table>\n"
      ],
      "text/latex": [
       "A data.frame: 5 × 2\n",
       "\\begin{tabular}{ll}\n",
       " adverts & packets\\\\\n",
       " <dbl> & <dbl>\\\\\n",
       "\\hline\n",
       "\t 5 &  8\\\\\n",
       "\t 4 &  9\\\\\n",
       "\t 4 & 10\\\\\n",
       "\t 6 & 13\\\\\n",
       "\t 8 & 15\\\\\n",
       "\\end{tabular}\n"
      ],
      "text/markdown": [
       "\n",
       "A data.frame: 5 × 2\n",
       "\n",
       "| adverts &lt;dbl&gt; | packets &lt;dbl&gt; |\n",
       "|---|---|\n",
       "| 5 |  8 |\n",
       "| 4 |  9 |\n",
       "| 4 | 10 |\n",
       "| 6 | 13 |\n",
       "| 8 | 15 |\n",
       "\n"
      ],
      "text/plain": [
       "  adverts packets\n",
       "1 5        8     \n",
       "2 4        9     \n",
       "3 4       10     \n",
       "4 6       13     \n",
       "5 8       15     "
      ]
     },
     "metadata": {},
     "output_type": "display_data"
    }
   ],
   "source": [
    "advertData"
   ]
  },
  {
   "cell_type": "code",
   "execution_count": 9,
   "id": "b7a6a65c",
   "metadata": {},
   "outputs": [
    {
     "data": {
      "image/png": "[encoded data removed]",
      "text/plain": [
       "plot without title"
      ]
     },
     "metadata": {
      "image/png": {
       "height": 420,
       "width": 420
      }
     },
     "output_type": "display_data"
    }
   ],
   "source": [
    "library(ggplot2)\n",
    "ggplot(advertData, aes(x=adverts, y=packets))+geom_point(size=3, shape=19)"
   ]
  },
  {
   "cell_type": "markdown",
   "id": "75eab665",
   "metadata": {},
   "source": [
    "# Bivariate Correlation\n",
    "korelasi antara dua variabel \n",
    "## Pearson Correlation\n",
    "## Spearman Correlation\n",
    "## Kendall Tau"
   ]
  },
  {
   "cell_type": "markdown",
   "id": "428622c4",
   "metadata": {},
   "source": [
    "Di dalam r ada beberapa cara untuk menghitung korelasi :\n",
    "* __cor()__ r base\n",
    "* __cor.test()__ r base\n",
    "* __rcorr()__ melalui paket *Hmisc*"
   ]
  },
  {
   "cell_type": "markdown",
   "id": "022139e2",
   "metadata": {},
   "source": [
    "# Partial Correlation\n",
    "korelasi antara dua variabel sambil melakukan kontrol pada efek dari satu atau lebih variabel tambahan"
   ]
  },
  {
   "cell_type": "code",
   "execution_count": 1,
   "id": "db290400",
   "metadata": {},
   "outputs": [],
   "source": [
    "data.corr<-read.delim(\"Exam Anxiety.dat\", header=TRUE)"
   ]
  },
  {
   "cell_type": "code",
   "execution_count": 3,
   "id": "4fca13d1",
   "metadata": {},
   "outputs": [
    {
     "data": {
      "text/plain": [
       "      Code           Revise           Exam           Anxiety      \n",
       " Min.   :  1.0   Min.   : 0.00   Min.   :  2.00   Min.   : 0.056  \n",
       " 1st Qu.: 26.5   1st Qu.: 8.00   1st Qu.: 40.00   1st Qu.:69.775  \n",
       " Median : 52.0   Median :15.00   Median : 60.00   Median :79.044  \n",
       " Mean   : 52.0   Mean   :19.85   Mean   : 56.57   Mean   :74.344  \n",
       " 3rd Qu.: 77.5   3rd Qu.:23.50   3rd Qu.: 80.00   3rd Qu.:84.686  \n",
       " Max.   :103.0   Max.   :98.00   Max.   :100.00   Max.   :97.582  \n",
       "    Gender         \n",
       " Length:103        \n",
       " Class :character  \n",
       " Mode  :character  \n",
       "                   \n",
       "                   \n",
       "                   "
      ]
     },
     "metadata": {},
     "output_type": "display_data"
    }
   ],
   "source": [
    "summary(data.corr)"
   ]
  },
  {
   "cell_type": "code",
   "execution_count": 4,
   "id": "26012c06",
   "metadata": {},
   "outputs": [
    {
     "name": "stdout",
     "output_type": "stream",
     "text": [
      "'data.frame':\t103 obs. of  5 variables:\n",
      " $ Code   : int  1 2 3 4 5 6 7 8 9 10 ...\n",
      " $ Revise : int  4 11 27 53 4 22 16 21 25 18 ...\n",
      " $ Exam   : int  40 65 80 80 40 70 20 55 50 40 ...\n",
      " $ Anxiety: num  86.3 88.7 70.2 61.3 89.5 ...\n",
      " $ Gender : chr  \"Male\" \"Female\" \"Male\" \"Male\" ...\n"
     ]
    }
   ],
   "source": [
    "str(data.corr)"
   ]
  },
  {
   "cell_type": "code",
   "execution_count": null,
   "id": "2140fb5a",
   "metadata": {},
   "outputs": [],
   "source": []
  },
  {
   "cell_type": "code",
   "execution_count": null,
   "id": "d6c7a9d0",
   "metadata": {},
   "outputs": [],
   "source": []
  },
  {
   "cell_type": "code",
   "execution_count": null,
   "id": "46f4b711",
   "metadata": {},
   "outputs": [],
   "source": []
  },
  {
   "cell_type": "code",
   "execution_count": null,
   "id": "318eed65",
   "metadata": {},
   "outputs": [],
   "source": []
  }
 ],
 "metadata": {
  "kernelspec": {
   "display_name": "R",
   "language": "R",
   "name": "ir"
  },
  "language_info": {
   "codemirror_mode": "r",
   "file_extension": ".r",
   "mimetype": "text/x-r-source",
   "name": "R",
   "pygments_lexer": "r",
   "version": "4.1.0"
  }
 },
 "nbformat": 4,
 "nbformat_minor": 5
}
