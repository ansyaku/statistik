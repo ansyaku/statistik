{
 "cells": [
  {
   "cell_type": "markdown",
   "id": "7a6545b3",
   "metadata": {},
   "source": [
    "# Assessment I: Diagnostic Test\n",
    "***\n",
    "\n",
    "## Outliers \n",
    "\n",
    "Outliers dapat membuat model menjadi bias. <br>\n",
    "Bagaimana mendeteksi keberadaan outliers?\n",
    "* Normal (Unstandardized Residuals)\n",
    "* Standardized Residuals - residual dibagi dengan estimasi standar deviasi\n",
    "\n",
    "### Notes :\n",
    "Selain itu, kita juga bisa melihat $p-value$.\n",
    "1. Standardized residuals dengan nilai absolut > 3.29, itu perlu menjadi concern, karena biasanya sampel yang seperti itu jarang terjadi secara kebetulan\n",
    "2. Jika lebih dari 1% dari sampel memiliki nilai residu standar > 2.58, level error dari model tidak dapat diterima (model tidak fit dengan sample data).\n",
    "3. Jika lebih dari 5% dari sampel memiliki nilai residu yang nilai absolutnya >1.96 artinya model tersebut buruk untuk merepresentasikan data "
   ]
  },
  {
   "cell_type": "markdown",
   "id": "63ada512",
   "metadata": {},
   "source": [
    "* Adjusted Predicted Value dari suatu kasus- apabila kasus itu tidak diikutkan ke daam analisis, kemudian model akan menghitung nilai prediksi tanpa kasus itu \n",
    "* Studentized Residual - residual dibagi dengan standar error\n",
    "* Cook's Distance - Pengaruh total suatu model terhadap model\n",
    "* Hat values (leverage) - Pengaruh nilai yang diobservasi terhadap nilai prediksi"
   ]
  },
  {
   "cell_type": "code",
   "execution_count": 13,
   "id": "6503dcb2",
   "metadata": {},
   "outputs": [
    {
     "data": {
      "text/html": [
       "'D:/OneDrive - Universitas Terbuka/00 LABORATORIUM/Github/statistik/bab7'"
      ],
      "text/latex": [
       "'D:/OneDrive - Universitas Terbuka/00 LABORATORIUM/Github/statistik/bab7'"
      ],
      "text/markdown": [
       "'D:/OneDrive - Universitas Terbuka/00 LABORATORIUM/Github/statistik/bab7'"
      ],
      "text/plain": [
       "[1] \"D:/OneDrive - Universitas Terbuka/00 LABORATORIUM/Github/statistik/bab7\""
      ]
     },
     "metadata": {},
     "output_type": "display_data"
    },
    {
     "data": {
      "text/html": [
       "<table class=\"dataframe\">\n",
       "<caption>A data.frame: 30 × 3</caption>\n",
       "<thead>\n",
       "\t<tr><th scope=col>case</th><th scope=col>x</th><th scope=col>y</th></tr>\n",
       "\t<tr><th scope=col>&lt;int&gt;</th><th scope=col>&lt;dbl&gt;</th><th scope=col>&lt;dbl&gt;</th></tr>\n",
       "</thead>\n",
       "<tbody>\n",
       "\t<tr><td> 1</td><td>30</td><td> 1</td></tr>\n",
       "\t<tr><td> 2</td><td>29</td><td> 2</td></tr>\n",
       "\t<tr><td> 3</td><td>28</td><td> 3</td></tr>\n",
       "\t<tr><td> 4</td><td>27</td><td> 4</td></tr>\n",
       "\t<tr><td> 5</td><td>26</td><td> 5</td></tr>\n",
       "\t<tr><td> 6</td><td>25</td><td> 6</td></tr>\n",
       "\t<tr><td> 7</td><td>24</td><td> 7</td></tr>\n",
       "\t<tr><td> 8</td><td>23</td><td> 8</td></tr>\n",
       "\t<tr><td> 9</td><td>22</td><td> 9</td></tr>\n",
       "\t<tr><td>10</td><td>21</td><td>10</td></tr>\n",
       "\t<tr><td>11</td><td>20</td><td>11</td></tr>\n",
       "\t<tr><td>12</td><td>19</td><td>12</td></tr>\n",
       "\t<tr><td>13</td><td>18</td><td>13</td></tr>\n",
       "\t<tr><td>14</td><td>17</td><td>14</td></tr>\n",
       "\t<tr><td>15</td><td>16</td><td>15</td></tr>\n",
       "\t<tr><td>16</td><td>15</td><td>16</td></tr>\n",
       "\t<tr><td>17</td><td>14</td><td>17</td></tr>\n",
       "\t<tr><td>18</td><td>13</td><td>18</td></tr>\n",
       "\t<tr><td>19</td><td>12</td><td>19</td></tr>\n",
       "\t<tr><td>20</td><td>11</td><td>20</td></tr>\n",
       "\t<tr><td>21</td><td>10</td><td>21</td></tr>\n",
       "\t<tr><td>22</td><td> 9</td><td>22</td></tr>\n",
       "\t<tr><td>23</td><td> 8</td><td>23</td></tr>\n",
       "\t<tr><td>24</td><td> 7</td><td>24</td></tr>\n",
       "\t<tr><td>25</td><td> 6</td><td>25</td></tr>\n",
       "\t<tr><td>26</td><td> 5</td><td>26</td></tr>\n",
       "\t<tr><td>27</td><td> 4</td><td>27</td></tr>\n",
       "\t<tr><td>28</td><td> 3</td><td>28</td></tr>\n",
       "\t<tr><td>29</td><td> 2</td><td>29</td></tr>\n",
       "\t<tr><td>30</td><td> 1</td><td>15</td></tr>\n",
       "</tbody>\n",
       "</table>\n"
      ],
      "text/latex": [
       "A data.frame: 30 × 3\n",
       "\\begin{tabular}{lll}\n",
       " case & x & y\\\\\n",
       " <int> & <dbl> & <dbl>\\\\\n",
       "\\hline\n",
       "\t  1 & 30 &  1\\\\\n",
       "\t  2 & 29 &  2\\\\\n",
       "\t  3 & 28 &  3\\\\\n",
       "\t  4 & 27 &  4\\\\\n",
       "\t  5 & 26 &  5\\\\\n",
       "\t  6 & 25 &  6\\\\\n",
       "\t  7 & 24 &  7\\\\\n",
       "\t  8 & 23 &  8\\\\\n",
       "\t  9 & 22 &  9\\\\\n",
       "\t 10 & 21 & 10\\\\\n",
       "\t 11 & 20 & 11\\\\\n",
       "\t 12 & 19 & 12\\\\\n",
       "\t 13 & 18 & 13\\\\\n",
       "\t 14 & 17 & 14\\\\\n",
       "\t 15 & 16 & 15\\\\\n",
       "\t 16 & 15 & 16\\\\\n",
       "\t 17 & 14 & 17\\\\\n",
       "\t 18 & 13 & 18\\\\\n",
       "\t 19 & 12 & 19\\\\\n",
       "\t 20 & 11 & 20\\\\\n",
       "\t 21 & 10 & 21\\\\\n",
       "\t 22 &  9 & 22\\\\\n",
       "\t 23 &  8 & 23\\\\\n",
       "\t 24 &  7 & 24\\\\\n",
       "\t 25 &  6 & 25\\\\\n",
       "\t 26 &  5 & 26\\\\\n",
       "\t 27 &  4 & 27\\\\\n",
       "\t 28 &  3 & 28\\\\\n",
       "\t 29 &  2 & 29\\\\\n",
       "\t 30 &  1 & 15\\\\\n",
       "\\end{tabular}\n"
      ],
      "text/markdown": [
       "\n",
       "A data.frame: 30 × 3\n",
       "\n",
       "| case &lt;int&gt; | x &lt;dbl&gt; | y &lt;dbl&gt; |\n",
       "|---|---|---|\n",
       "|  1 | 30 |  1 |\n",
       "|  2 | 29 |  2 |\n",
       "|  3 | 28 |  3 |\n",
       "|  4 | 27 |  4 |\n",
       "|  5 | 26 |  5 |\n",
       "|  6 | 25 |  6 |\n",
       "|  7 | 24 |  7 |\n",
       "|  8 | 23 |  8 |\n",
       "|  9 | 22 |  9 |\n",
       "| 10 | 21 | 10 |\n",
       "| 11 | 20 | 11 |\n",
       "| 12 | 19 | 12 |\n",
       "| 13 | 18 | 13 |\n",
       "| 14 | 17 | 14 |\n",
       "| 15 | 16 | 15 |\n",
       "| 16 | 15 | 16 |\n",
       "| 17 | 14 | 17 |\n",
       "| 18 | 13 | 18 |\n",
       "| 19 | 12 | 19 |\n",
       "| 20 | 11 | 20 |\n",
       "| 21 | 10 | 21 |\n",
       "| 22 |  9 | 22 |\n",
       "| 23 |  8 | 23 |\n",
       "| 24 |  7 | 24 |\n",
       "| 25 |  6 | 25 |\n",
       "| 26 |  5 | 26 |\n",
       "| 27 |  4 | 27 |\n",
       "| 28 |  3 | 28 |\n",
       "| 29 |  2 | 29 |\n",
       "| 30 |  1 | 15 |\n",
       "\n"
      ],
      "text/plain": [
       "   case x  y \n",
       "1   1   30  1\n",
       "2   2   29  2\n",
       "3   3   28  3\n",
       "4   4   27  4\n",
       "5   5   26  5\n",
       "6   6   25  6\n",
       "7   7   24  7\n",
       "8   8   23  8\n",
       "9   9   22  9\n",
       "10 10   21 10\n",
       "11 11   20 11\n",
       "12 12   19 12\n",
       "13 13   18 13\n",
       "14 14   17 14\n",
       "15 15   16 15\n",
       "16 16   15 16\n",
       "17 17   14 17\n",
       "18 18   13 18\n",
       "19 19   12 19\n",
       "20 20   11 20\n",
       "21 21   10 21\n",
       "22 22    9 22\n",
       "23 23    8 23\n",
       "24 24    7 24\n",
       "25 25    6 25\n",
       "26 26    5 26\n",
       "27 27    4 27\n",
       "28 28    3 28\n",
       "29 29    2 29\n",
       "30 30    1 15"
      ]
     },
     "metadata": {},
     "output_type": "display_data"
    }
   ],
   "source": [
    "setwd(\"D:/OneDrive - Universitas Terbuka/00 LABORATORIUM/Github/statistik/bab7\")\n",
    "getwd()\n",
    "data.dfb<-read.delim(\"dfbeta.dat\", header=TRUE, sep=\";\")\n",
    "data.dfb"
   ]
  },
  {
   "cell_type": "code",
   "execution_count": 10,
   "id": "8dcc9d33",
   "metadata": {},
   "outputs": [
    {
     "data": {
      "text/plain": [
       "\n",
       "Call:\n",
       "lm(formula = y ~ x, data = data.dfb)\n",
       "\n",
       "Residuals:\n",
       "     Min       1Q   Median       3Q      Max \n",
       "-13.0968  -0.2984   0.4032   1.1048   1.8065 \n",
       "\n",
       "Coefficients:\n",
       "            Estimate Std. Error t value Pr(>|t|)    \n",
       "(Intercept) 29.00000    0.99190   29.24  < 2e-16 ***\n",
       "x           -0.90323    0.05587  -16.17  9.9e-16 ***\n",
       "---\n",
       "Signif. codes:  0 '***' 0.001 '**' 0.01 '*' 0.05 '.' 0.1 ' ' 1\n",
       "\n",
       "Residual standard error: 2.649 on 28 degrees of freedom\n",
       "Multiple R-squared:  0.9032,\tAdjusted R-squared:  0.8998 \n",
       "F-statistic: 261.3 on 1 and 28 DF,  p-value: 9.901e-16\n"
      ]
     },
     "metadata": {},
     "output_type": "display_data"
    }
   ],
   "source": [
    "reg<-lm(y~x, data=data.dfb)\n",
    "summary(reg)"
   ]
  },
  {
   "cell_type": "code",
   "execution_count": 12,
   "id": "99f64d53",
   "metadata": {},
   "outputs": [
    {
     "ename": "ERROR",
     "evalue": "Error in `[.data.frame`(data.dfb, data.dfb$case == 30): undefined columns selected\n",
     "output_type": "error",
     "traceback": [
      "Error in `[.data.frame`(data.dfb, data.dfb$case == 30): undefined columns selected\nTraceback:\n",
      "1. data.dfb[data.dfb$case == 30]",
      "2. `[.data.frame`(data.dfb, data.dfb$case == 30)",
      "3. stop(\"undefined columns selected\")"
     ]
    }
   ],
   "source": [
    "data.dfb2<-data.dfb[data.dfb$case == 30]"
   ]
  },
  {
   "cell_type": "code",
   "execution_count": null,
   "id": "1bb4333b",
   "metadata": {},
   "outputs": [],
   "source": []
  }
 ],
 "metadata": {
  "kernelspec": {
   "display_name": "R",
   "language": "R",
   "name": "ir"
  },
  "language_info": {
   "codemirror_mode": "r",
   "file_extension": ".r",
   "mimetype": "text/x-r-source",
   "name": "R",
   "pygments_lexer": "r",
   "version": "4.1.0"
  }
 },
 "nbformat": 4,
 "nbformat_minor": 5
}
