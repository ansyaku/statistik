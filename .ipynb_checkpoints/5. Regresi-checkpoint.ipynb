{
 "cells": [
  {
   "cell_type": "code",
   "execution_count": 1,
   "id": "b2ca4192",
   "metadata": {},
   "outputs": [
    {
     "data": {
      "text/html": [
       "'D:/OneDrive - Universitas Terbuka/00 LABORATORIUM/Github/statistik/bab7'"
      ],
      "text/latex": [
       "'D:/OneDrive - Universitas Terbuka/00 LABORATORIUM/Github/statistik/bab7'"
      ],
      "text/markdown": [
       "'D:/OneDrive - Universitas Terbuka/00 LABORATORIUM/Github/statistik/bab7'"
      ],
      "text/plain": [
       "[1] \"D:/OneDrive - Universitas Terbuka/00 LABORATORIUM/Github/statistik/bab7\""
      ]
     },
     "metadata": {},
     "output_type": "display_data"
    }
   ],
   "source": [
    "setwd(\"D:/OneDrive - Universitas Terbuka/00 LABORATORIUM/Github/statistik/bab7\")\n",
    "getwd()"
   ]
  },
  {
   "cell_type": "code",
   "execution_count": 2,
   "id": "784bfabe",
   "metadata": {},
   "outputs": [
    {
     "data": {
      "text/html": [
       "<table class=\"dataframe\">\n",
       "<caption>A data.frame: 6 × 2</caption>\n",
       "<thead>\n",
       "\t<tr><th></th><th scope=col>adverts</th><th scope=col>sales</th></tr>\n",
       "\t<tr><th></th><th scope=col>&lt;dbl&gt;</th><th scope=col>&lt;int&gt;</th></tr>\n",
       "</thead>\n",
       "<tbody>\n",
       "\t<tr><th scope=row>1</th><td>  10.256</td><td>330</td></tr>\n",
       "\t<tr><th scope=row>2</th><td> 985.685</td><td>120</td></tr>\n",
       "\t<tr><th scope=row>3</th><td>1445.563</td><td>360</td></tr>\n",
       "\t<tr><th scope=row>4</th><td>1188.193</td><td>270</td></tr>\n",
       "\t<tr><th scope=row>5</th><td> 574.513</td><td>220</td></tr>\n",
       "\t<tr><th scope=row>6</th><td> 568.954</td><td>170</td></tr>\n",
       "</tbody>\n",
       "</table>\n"
      ],
      "text/latex": [
       "A data.frame: 6 × 2\n",
       "\\begin{tabular}{r|ll}\n",
       "  & adverts & sales\\\\\n",
       "  & <dbl> & <int>\\\\\n",
       "\\hline\n",
       "\t1 &   10.256 & 330\\\\\n",
       "\t2 &  985.685 & 120\\\\\n",
       "\t3 & 1445.563 & 360\\\\\n",
       "\t4 & 1188.193 & 270\\\\\n",
       "\t5 &  574.513 & 220\\\\\n",
       "\t6 &  568.954 & 170\\\\\n",
       "\\end{tabular}\n"
      ],
      "text/markdown": [
       "\n",
       "A data.frame: 6 × 2\n",
       "\n",
       "| <!--/--> | adverts &lt;dbl&gt; | sales &lt;int&gt; |\n",
       "|---|---|---|\n",
       "| 1 |   10.256 | 330 |\n",
       "| 2 |  985.685 | 120 |\n",
       "| 3 | 1445.563 | 360 |\n",
       "| 4 | 1188.193 | 270 |\n",
       "| 5 |  574.513 | 220 |\n",
       "| 6 |  568.954 | 170 |\n",
       "\n"
      ],
      "text/plain": [
       "  adverts  sales\n",
       "1   10.256 330  \n",
       "2  985.685 120  \n",
       "3 1445.563 360  \n",
       "4 1188.193 270  \n",
       "5  574.513 220  \n",
       "6  568.954 170  "
      ]
     },
     "metadata": {},
     "output_type": "display_data"
    }
   ],
   "source": [
    "data.reg<-read.delim(\"Album Sales 1.dat\", header=TRUE)\n",
    "head(data.reg)"
   ]
  },
  {
   "cell_type": "code",
   "execution_count": 19,
   "id": "fae1cf78",
   "metadata": {},
   "outputs": [],
   "source": [
    "# Model Regresi\n",
    "reg.model<-lm(sales~adverts, data=data.reg)"
   ]
  },
  {
   "cell_type": "markdown",
   "id": "6bf370d3",
   "metadata": {},
   "source": [
    "# Menggunakan Format Laporan R Base Untuk Melaporkan Regresi\n",
    "***\n",
    "\n",
    "summary(reg.model)"
   ]
  },
  {
   "cell_type": "code",
   "execution_count": 21,
   "id": "48c41352",
   "metadata": {},
   "outputs": [
    {
     "data": {
      "text/plain": [
       "\n",
       "Call:\n",
       "lm(formula = sales ~ adverts, data = data.reg)\n",
       "\n",
       "Residuals:\n",
       "     Min       1Q   Median       3Q      Max \n",
       "-152.949  -43.796   -0.393   37.040  211.866 \n",
       "\n",
       "Coefficients:\n",
       "             Estimate Std. Error t value Pr(>|t|)    \n",
       "(Intercept) 1.341e+02  7.537e+00  17.799   <2e-16 ***\n",
       "adverts     9.612e-02  9.632e-03   9.979   <2e-16 ***\n",
       "---\n",
       "Signif. codes:  0 '***' 0.001 '**' 0.01 '*' 0.05 '.' 0.1 ' ' 1\n",
       "\n",
       "Residual standard error: 65.99 on 198 degrees of freedom\n",
       "Multiple R-squared:  0.3346,\tAdjusted R-squared:  0.3313 \n",
       "F-statistic: 99.59 on 1 and 198 DF,  p-value: < 2.2e-16\n"
      ]
     },
     "metadata": {},
     "output_type": "display_data"
    }
   ],
   "source": [
    "summary(reg.model)"
   ]
  },
  {
   "cell_type": "markdown",
   "id": "230b3249",
   "metadata": {},
   "source": [
    "# Menggunakan Library jtools\n",
    "***"
   ]
  },
  {
   "cell_type": "code",
   "execution_count": 12,
   "id": "01ef862f",
   "metadata": {},
   "outputs": [
    {
     "data": {
      "text/plain": [
       "\u001b[4mMODEL INFO:\u001b[24m\n",
       "\u001b[3mObservations:\u001b[23m 200\n",
       "\u001b[3mDependent Variable:\u001b[23m sales\n",
       "\u001b[3mType:\u001b[23m OLS linear regression \n",
       "\n",
       "\u001b[4mMODEL FIT:\u001b[24m\n",
       "\u001b[3mF\u001b[23m(1,198) = 99.587, \u001b[3mp\u001b[23m = 0.000\n",
       "\u001b[3mR² = \u001b[23m0.335\n",
       "\u001b[3mAdj. R² = \u001b[23m0.331 \n",
       "\n",
       "\u001b[3mStandard errors: OLS\u001b[23m\n",
       "----------------------------------------------------------------\n",
       "                       Est.      2.5%     97.5%   t val.       p\n",
       "----------------- --------- --------- --------- -------- -------\n",
       "(Intercept)         134.140   119.278   149.002   17.799   0.000\n",
       "adverts               0.096     0.077     0.115    9.979   0.000\n",
       "----------------------------------------------------------------"
      ]
     },
     "metadata": {},
     "output_type": "display_data"
    }
   ],
   "source": [
    "library(jtools)\n",
    "summ(reg.model, confint = TRUE, digits = 3)"
   ]
  },
  {
   "cell_type": "markdown",
   "id": "67cedc2e",
   "metadata": {},
   "source": [
    "# Menggunakan sjPlot\n",
    "***\n",
    "Ini bisa dilakukan dan nanti hasilnya keluar di tab baru\n",
    "library(sjPlot)<br>\n",
    "library(sjmisc)<br>\n",
    "library(sjlabelled)<br>\n",
    "tab_model(reg.model)"
   ]
  },
  {
   "cell_type": "code",
   "execution_count": 22,
   "id": "decdf7b7",
   "metadata": {},
   "outputs": [
    {
     "data": {
      "text/html": [
       "0.578791845139511"
      ],
      "text/latex": [
       "0.578791845139511"
      ],
      "text/markdown": [
       "0.578791845139511"
      ],
      "text/plain": [
       "[1] 0.5787918"
      ]
     },
     "metadata": {},
     "output_type": "display_data"
    }
   ],
   "source": [
    "# R² = 0.335\n",
    "pearson_corr<-sqrt(0.335)\n",
    "pearson_corr"
   ]
  },
  {
   "cell_type": "code",
   "execution_count": 23,
   "id": "0e59bc1a",
   "metadata": {},
   "outputs": [
    {
     "data": {
      "text/html": [
       "<table class=\"dataframe\">\n",
       "<caption>A data.frame: 6 × 4</caption>\n",
       "<thead>\n",
       "\t<tr><th></th><th scope=col>adverts</th><th scope=col>sales</th><th scope=col>airplay</th><th scope=col>attract</th></tr>\n",
       "\t<tr><th></th><th scope=col>&lt;dbl&gt;</th><th scope=col>&lt;int&gt;</th><th scope=col>&lt;int&gt;</th><th scope=col>&lt;int&gt;</th></tr>\n",
       "</thead>\n",
       "<tbody>\n",
       "\t<tr><th scope=row>1</th><td>  10.256</td><td>330</td><td>43</td><td>10</td></tr>\n",
       "\t<tr><th scope=row>2</th><td> 985.685</td><td>120</td><td>28</td><td> 7</td></tr>\n",
       "\t<tr><th scope=row>3</th><td>1445.563</td><td>360</td><td>35</td><td> 7</td></tr>\n",
       "\t<tr><th scope=row>4</th><td>1188.193</td><td>270</td><td>33</td><td> 7</td></tr>\n",
       "\t<tr><th scope=row>5</th><td> 574.513</td><td>220</td><td>44</td><td> 5</td></tr>\n",
       "\t<tr><th scope=row>6</th><td> 568.954</td><td>170</td><td>19</td><td> 5</td></tr>\n",
       "</tbody>\n",
       "</table>\n"
      ],
      "text/latex": [
       "A data.frame: 6 × 4\n",
       "\\begin{tabular}{r|llll}\n",
       "  & adverts & sales & airplay & attract\\\\\n",
       "  & <dbl> & <int> & <int> & <int>\\\\\n",
       "\\hline\n",
       "\t1 &   10.256 & 330 & 43 & 10\\\\\n",
       "\t2 &  985.685 & 120 & 28 &  7\\\\\n",
       "\t3 & 1445.563 & 360 & 35 &  7\\\\\n",
       "\t4 & 1188.193 & 270 & 33 &  7\\\\\n",
       "\t5 &  574.513 & 220 & 44 &  5\\\\\n",
       "\t6 &  568.954 & 170 & 19 &  5\\\\\n",
       "\\end{tabular}\n"
      ],
      "text/markdown": [
       "\n",
       "A data.frame: 6 × 4\n",
       "\n",
       "| <!--/--> | adverts &lt;dbl&gt; | sales &lt;int&gt; | airplay &lt;int&gt; | attract &lt;int&gt; |\n",
       "|---|---|---|---|---|\n",
       "| 1 |   10.256 | 330 | 43 | 10 |\n",
       "| 2 |  985.685 | 120 | 28 |  7 |\n",
       "| 3 | 1445.563 | 360 | 35 |  7 |\n",
       "| 4 | 1188.193 | 270 | 33 |  7 |\n",
       "| 5 |  574.513 | 220 | 44 |  5 |\n",
       "| 6 |  568.954 | 170 | 19 |  5 |\n",
       "\n"
      ],
      "text/plain": [
       "  adverts  sales airplay attract\n",
       "1   10.256 330   43      10     \n",
       "2  985.685 120   28       7     \n",
       "3 1445.563 360   35       7     \n",
       "4 1188.193 270   33       7     \n",
       "5  574.513 220   44       5     \n",
       "6  568.954 170   19       5     "
      ]
     },
     "metadata": {},
     "output_type": "display_data"
    }
   ],
   "source": [
    "data.reg2<-read.delim(\"Album Sales 2.dat\", header=TRUE)\n",
    "head(data.reg2)"
   ]
  },
  {
   "cell_type": "code",
   "execution_count": 25,
   "id": "db2f8867",
   "metadata": {},
   "outputs": [],
   "source": [
    "# Model Regresi\n",
    "reg.model2<-lm(sales~adverts+airplay+attract, data=data.reg2)"
   ]
  },
  {
   "cell_type": "code",
   "execution_count": 26,
   "id": "f9241a3b",
   "metadata": {},
   "outputs": [
    {
     "data": {
      "text/plain": [
       "\u001b[4mMODEL INFO:\u001b[24m\n",
       "\u001b[3mObservations:\u001b[23m 200\n",
       "\u001b[3mDependent Variable:\u001b[23m sales\n",
       "\u001b[3mType:\u001b[23m OLS linear regression \n",
       "\n",
       "\u001b[4mMODEL FIT:\u001b[24m\n",
       "\u001b[3mF\u001b[23m(3,196) = 129.50, \u001b[3mp\u001b[23m = 0.00\n",
       "\u001b[3mR² = \u001b[23m0.66\n",
       "\u001b[3mAdj. R² = \u001b[23m0.66 \n",
       "\n",
       "\u001b[3mStandard errors: OLS\u001b[23m\n",
       "--------------------------------------------------\n",
       "                      Est.    S.E.   t val.      p\n",
       "----------------- -------- ------- -------- ------\n",
       "(Intercept)         -26.61   17.35    -1.53   0.13\n",
       "adverts               0.08    0.01    12.26   0.00\n",
       "airplay               3.37    0.28    12.12   0.00\n",
       "attract              11.09    2.44     4.55   0.00\n",
       "--------------------------------------------------"
      ]
     },
     "metadata": {},
     "output_type": "display_data"
    }
   ],
   "source": [
    "summ(reg.model2)"
   ]
  },
  {
   "cell_type": "code",
   "execution_count": 29,
   "id": "d47e9746",
   "metadata": {},
   "outputs": [
    {
     "data": {
      "text/plain": [
       "\n",
       "Call:\n",
       "lm(formula = sales ~ adverts + airplay + attract, data = data.reg2)\n",
       "\n",
       "Residuals:\n",
       "     Min       1Q   Median       3Q      Max \n",
       "-121.324  -28.336   -0.451   28.967  144.132 \n",
       "\n",
       "Coefficients:\n",
       "              Estimate Std. Error t value Pr(>|t|)    \n",
       "(Intercept) -26.612958  17.350001  -1.534    0.127    \n",
       "adverts       0.084885   0.006923  12.261  < 2e-16 ***\n",
       "airplay       3.367425   0.277771  12.123  < 2e-16 ***\n",
       "attract      11.086335   2.437849   4.548 9.49e-06 ***\n",
       "---\n",
       "Signif. codes:  0 '***' 0.001 '**' 0.01 '*' 0.05 '.' 0.1 ' ' 1\n",
       "\n",
       "Residual standard error: 47.09 on 196 degrees of freedom\n",
       "Multiple R-squared:  0.6647,\tAdjusted R-squared:  0.6595 \n",
       "F-statistic: 129.5 on 3 and 196 DF,  p-value: < 2.2e-16\n"
      ]
     },
     "metadata": {},
     "output_type": "display_data"
    }
   ],
   "source": [
    "summary(reg.model2)"
   ]
  },
  {
   "cell_type": "markdown",
   "id": "468d9159",
   "metadata": {},
   "source": [
    "* __Standard error (SE)__ of a statistic is the standard deviation of its sampling distribution o\n",
    "* __Multiple r__ an estimate of that standard deviation.\n",
    "the correlation between actual and predicted values of the dependant variable."
   ]
  },
  {
   "cell_type": "code",
   "execution_count": 31,
   "id": "f91d9351",
   "metadata": {},
   "outputs": [
    {
     "data": {
      "image/png": "[encoded data removed]",
      "text/plain": [
       "Plot with title \"\""
      ]
     },
     "metadata": {
      "image/png": {
       "height": 420,
       "width": 420
      }
     },
     "output_type": "display_data"
    },
    {
     "data": {
      "image/png": "[encoded data removed]",
      "text/plain": [
       "Plot with title \"\""
      ]
     },
     "metadata": {
      "image/png": {
       "height": 420,
       "width": 420
      }
     },
     "output_type": "display_data"
    },
    {
     "data": {
      "image/png": "[encoded data removed]",
      "text/plain": [
       "Plot with title \"\""
      ]
     },
     "metadata": {
      "image/png": {
       "height": 420,
       "width": 420
      }
     },
     "output_type": "display_data"
    },
    {
     "data": {
      "image/png": "[encoded data removed]",
      "text/plain": [
       "Plot with title \"\""
      ]
     },
     "metadata": {
      "image/png": {
       "height": 420,
       "width": 420
      }
     },
     "output_type": "display_data"
    }
   ],
   "source": [
    "plot(reg.model)"
   ]
  },
  {
   "cell_type": "code",
   "execution_count": 36,
   "id": "e3a3b806",
   "metadata": {},
   "outputs": [
    {
     "name": "stderr",
     "output_type": "stream",
     "text": [
      "`geom_smooth()` using formula 'y ~ x'\n",
      "\n"
     ]
    },
    {
     "data": {
      "image/png": "[encoded data removed]",
      "text/plain": [
       "plot without title"
      ]
     },
     "metadata": {
      "image/png": {
       "height": 420,
       "width": 420
      }
     },
     "output_type": "display_data"
    }
   ],
   "source": [
    "library(ggplot2)\n",
    "library(ggthemes)\n",
    "ggplot(data.reg, aes(adverts, sales)) +\n",
    "  geom_point() +\n",
    "  geom_smooth(method='lm') +\n",
    "theme_wsj()"
   ]
  },
  {
   "cell_type": "code",
   "execution_count": 1,
   "id": "d816f6a9",
   "metadata": {},
   "outputs": [
    {
     "ename": "ERROR",
     "evalue": "Error in parse(text = x, srcfile = src): <text>:1:8: unexpected symbol\n1: Source of\n           ^\n",
     "output_type": "error",
     "traceback": [
      "Error in parse(text = x, srcfile = src): <text>:1:8: unexpected symbol\n1: Source of\n           ^\nTraceback:\n"
     ]
    }
   ],
   "source": [
    "Source of variation\tSS\n",
    "Regression\tSSR\n",
    "Error\tSSE\n",
    "Total\tSSTO\n",
    "\n",
    "\n",
    "$var=y_i-\\bar y$<br>\n",
    "$SSTO = \\sum  (y_i-\\bar y)^2$<br>\n",
    "$SSR = \\sum  (y_i-\\hat y)^2$<br>\n",
    "$SS_T$ jarak data yang diobservasi ke mean <br>\n",
    "$SS_R$ jarak data yang diobservasi ke garis regresi<br>\n",
    "$SS_M$ jarak mean data yang diobservasi ke garis regresi\n",
    "$R^2=\\frac{SS_M}{SS_T}$"
   ]
  }
 ],
 "metadata": {
  "kernelspec": {
   "display_name": "R",
   "language": "R",
   "name": "ir"
  },
  "language_info": {
   "codemirror_mode": "r",
   "file_extension": ".r",
   "mimetype": "text/x-r-source",
   "name": "R",
   "pygments_lexer": "r",
   "version": "4.1.0"
  }
 },
 "nbformat": 4,
 "nbformat_minor": 5
}
